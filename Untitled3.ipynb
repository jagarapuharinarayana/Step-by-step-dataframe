{
 "cells": [
  {
   "cell_type": "code",
   "execution_count": 15,
   "id": "f370f46a-51bf-4240-bb8e-d396c784e154",
   "metadata": {},
   "outputs": [
    {
     "name": "stdout",
     "output_type": "stream",
     "text": [
      "0\n",
      "11\n",
      "222\n",
      "3333\n",
      "44444\n",
      "555555\n",
      "6666666\n",
      "77777777\n",
      "888888888\n",
      "9999999999\n"
     ]
    }
   ],
   "source": [
    "for i in range(1,11):\n",
    "    for j in range(i):\n",
    "         print(i-1, end=\"\")\n",
    "    print()"
   ]
  },
  {
   "cell_type": "code",
   "execution_count": 3,
   "id": "0c438ceb-66d7-4d6f-926a-62f19f3c4f79",
   "metadata": {},
   "outputs": [
    {
     "name": "stderr",
     "output_type": "stream",
     "text": [
      "<>:19: SyntaxWarning: invalid escape sequence '\\m'\n",
      "<>:19: SyntaxWarning: invalid escape sequence '\\m'\n",
      "C:\\Users\\Hari\\AppData\\Local\\Temp\\ipykernel_14700\\1849904002.py:19: SyntaxWarning: invalid escape sequence '\\m'\n",
      "  doc = Document('C:\\menv\\BITS-ONLY.docx')\n"
     ]
    },
    {
     "name": "stdout",
     "output_type": "stream",
     "text": [
      "Collecting python-docx\n",
      "  Obtaining dependency information for python-docx from https://files.pythonhosted.org/packages/3e/3d/330d9efbdb816d3f60bf2ad92f05e1708e4a1b9abe80461ac3444c83f749/python_docx-1.1.2-py3-none-any.whl.metadata\n",
      "  Downloading python_docx-1.1.2-py3-none-any.whl.metadata (2.0 kB)\n",
      "Requirement already satisfied: lxml>=3.1.0 in c:\\menv\\lib\\site-packages (from python-docx) (5.1.0)\n",
      "Requirement already satisfied: typing-extensions>=4.9.0 in c:\\menv\\lib\\site-packages (from python-docx) (4.9.0)\n",
      "Downloading python_docx-1.1.2-py3-none-any.whl (244 kB)\n",
      "   ---------------------------------------- 0.0/244.3 kB ? eta -:--:--\n",
      "   ---------------------------------------- 0.0/244.3 kB ? eta -:--:--\n",
      "   ---- ---------------------------------- 30.7/244.3 kB 660.6 kB/s eta 0:00:01\n",
      "   -------------------- ------------------- 122.9/244.3 kB 1.4 MB/s eta 0:00:01\n",
      "   -------------------------------------- - 235.5/244.3 kB 1.6 MB/s eta 0:00:01\n",
      "   ---------------------------------------- 244.3/244.3 kB 1.5 MB/s eta 0:00:00\n",
      "Installing collected packages: python-docx\n",
      "Successfully installed python-docx-1.1.2\n"
     ]
    },
    {
     "name": "stderr",
     "output_type": "stream",
     "text": [
      "\n",
      "[notice] A new release of pip is available: 23.2.1 -> 24.1.1\n",
      "[notice] To update, run: python.exe -m pip install --upgrade pip\n",
      "C:\\Users\\Hari\\AppData\\Local\\Temp\\ipykernel_14700\\1849904002.py:19: SyntaxWarning: invalid escape sequence '\\m'\n",
      "  doc = Document('C:\\menv\\BITS-ONLY.docx')\n"
     ]
    },
    {
     "ename": "PackageNotFoundError",
     "evalue": "Package not found at 'original_questions.docx'",
     "output_type": "error",
     "traceback": [
      "\u001b[1;31m---------------------------------------------------------------------------\u001b[0m",
      "\u001b[1;31mPackageNotFoundError\u001b[0m                      Traceback (most recent call last)",
      "Cell \u001b[1;32mIn[3], line 30\u001b[0m\n\u001b[0;32m     27\u001b[0m     doc\u001b[38;5;241m.\u001b[39msave(\u001b[38;5;124m'\u001b[39m\u001b[38;5;124mjumbled_questions.docx\u001b[39m\u001b[38;5;124m'\u001b[39m)  \u001b[38;5;66;03m# Save the updated DOCX file\u001b[39;00m\n\u001b[0;32m     29\u001b[0m \u001b[38;5;66;03m# Usage example\u001b[39;00m\n\u001b[1;32m---> 30\u001b[0m \u001b[43mjumble_questions\u001b[49m\u001b[43m(\u001b[49m\u001b[38;5;124;43m'\u001b[39;49m\u001b[38;5;124;43moriginal_questions.docx\u001b[39;49m\u001b[38;5;124;43m'\u001b[39;49m\u001b[43m)\u001b[49m\n",
      "Cell \u001b[1;32mIn[3], line 15\u001b[0m, in \u001b[0;36mjumble_questions\u001b[1;34m(doc_path)\u001b[0m\n\u001b[0;32m     14\u001b[0m \u001b[38;5;28;01mdef\u001b[39;00m \u001b[38;5;21mjumble_questions\u001b[39m(doc_path):\n\u001b[1;32m---> 15\u001b[0m     questions \u001b[38;5;241m=\u001b[39m \u001b[43mextract_questions\u001b[49m\u001b[43m(\u001b[49m\u001b[43mdoc_path\u001b[49m\u001b[43m)\u001b[49m\n\u001b[0;32m     16\u001b[0m     random\u001b[38;5;241m.\u001b[39mshuffle(questions)\n\u001b[0;32m     18\u001b[0m     \u001b[38;5;66;03m# Update the DOCX file with the jumbled questions\u001b[39;00m\n",
      "Cell \u001b[1;32mIn[3], line 6\u001b[0m, in \u001b[0;36mextract_questions\u001b[1;34m(doc_path)\u001b[0m\n\u001b[0;32m      5\u001b[0m \u001b[38;5;28;01mdef\u001b[39;00m \u001b[38;5;21mextract_questions\u001b[39m(doc_path):\n\u001b[1;32m----> 6\u001b[0m     doc \u001b[38;5;241m=\u001b[39m \u001b[43mDocument\u001b[49m\u001b[43m(\u001b[49m\u001b[43mdoc_path\u001b[49m\u001b[43m)\u001b[49m\n\u001b[0;32m      7\u001b[0m     questions \u001b[38;5;241m=\u001b[39m []\n\u001b[0;32m      8\u001b[0m     \u001b[38;5;28;01mfor\u001b[39;00m table \u001b[38;5;129;01min\u001b[39;00m doc\u001b[38;5;241m.\u001b[39mtables:\n",
      "File \u001b[1;32mC:\\menv\\Lib\\site-packages\\docx\\api.py:27\u001b[0m, in \u001b[0;36mDocument\u001b[1;34m(docx)\u001b[0m\n\u001b[0;32m     20\u001b[0m \u001b[38;5;250m\u001b[39m\u001b[38;5;124;03m\"\"\"Return a |Document| object loaded from `docx`, where `docx` can be either a path\u001b[39;00m\n\u001b[0;32m     21\u001b[0m \u001b[38;5;124;03mto a ``.docx`` file (a string) or a file-like object.\u001b[39;00m\n\u001b[0;32m     22\u001b[0m \n\u001b[0;32m     23\u001b[0m \u001b[38;5;124;03mIf `docx` is missing or ``None``, the built-in default document \"template\" is\u001b[39;00m\n\u001b[0;32m     24\u001b[0m \u001b[38;5;124;03mloaded.\u001b[39;00m\n\u001b[0;32m     25\u001b[0m \u001b[38;5;124;03m\"\"\"\u001b[39;00m\n\u001b[0;32m     26\u001b[0m docx \u001b[38;5;241m=\u001b[39m _default_docx_path() \u001b[38;5;28;01mif\u001b[39;00m docx \u001b[38;5;129;01mis\u001b[39;00m \u001b[38;5;28;01mNone\u001b[39;00m \u001b[38;5;28;01melse\u001b[39;00m docx\n\u001b[1;32m---> 27\u001b[0m document_part \u001b[38;5;241m=\u001b[39m cast(\u001b[38;5;124m\"\u001b[39m\u001b[38;5;124mDocumentPart\u001b[39m\u001b[38;5;124m\"\u001b[39m, \u001b[43mPackage\u001b[49m\u001b[38;5;241;43m.\u001b[39;49m\u001b[43mopen\u001b[49m\u001b[43m(\u001b[49m\u001b[43mdocx\u001b[49m\u001b[43m)\u001b[49m\u001b[38;5;241m.\u001b[39mmain_document_part)\n\u001b[0;32m     28\u001b[0m \u001b[38;5;28;01mif\u001b[39;00m document_part\u001b[38;5;241m.\u001b[39mcontent_type \u001b[38;5;241m!=\u001b[39m CT\u001b[38;5;241m.\u001b[39mWML_DOCUMENT_MAIN:\n\u001b[0;32m     29\u001b[0m     tmpl \u001b[38;5;241m=\u001b[39m \u001b[38;5;124m\"\u001b[39m\u001b[38;5;124mfile \u001b[39m\u001b[38;5;124m'\u001b[39m\u001b[38;5;132;01m%s\u001b[39;00m\u001b[38;5;124m'\u001b[39m\u001b[38;5;124m is not a Word file, content type is \u001b[39m\u001b[38;5;124m'\u001b[39m\u001b[38;5;132;01m%s\u001b[39;00m\u001b[38;5;124m'\u001b[39m\u001b[38;5;124m\"\u001b[39m\n",
      "File \u001b[1;32mC:\\menv\\Lib\\site-packages\\docx\\opc\\package.py:127\u001b[0m, in \u001b[0;36mOpcPackage.open\u001b[1;34m(cls, pkg_file)\u001b[0m\n\u001b[0;32m    124\u001b[0m \u001b[38;5;129m@classmethod\u001b[39m\n\u001b[0;32m    125\u001b[0m \u001b[38;5;28;01mdef\u001b[39;00m \u001b[38;5;21mopen\u001b[39m(\u001b[38;5;28mcls\u001b[39m, pkg_file: \u001b[38;5;28mstr\u001b[39m \u001b[38;5;241m|\u001b[39m IO[\u001b[38;5;28mbytes\u001b[39m]) \u001b[38;5;241m-\u001b[39m\u001b[38;5;241m>\u001b[39m OpcPackage:\n\u001b[0;32m    126\u001b[0m \u001b[38;5;250m    \u001b[39m\u001b[38;5;124;03m\"\"\"Return an |OpcPackage| instance loaded with the contents of `pkg_file`.\"\"\"\u001b[39;00m\n\u001b[1;32m--> 127\u001b[0m     pkg_reader \u001b[38;5;241m=\u001b[39m \u001b[43mPackageReader\u001b[49m\u001b[38;5;241;43m.\u001b[39;49m\u001b[43mfrom_file\u001b[49m\u001b[43m(\u001b[49m\u001b[43mpkg_file\u001b[49m\u001b[43m)\u001b[49m\n\u001b[0;32m    128\u001b[0m     package \u001b[38;5;241m=\u001b[39m \u001b[38;5;28mcls\u001b[39m()\n\u001b[0;32m    129\u001b[0m     Unmarshaller\u001b[38;5;241m.\u001b[39munmarshal(pkg_reader, package, PartFactory)\n",
      "File \u001b[1;32mC:\\menv\\Lib\\site-packages\\docx\\opc\\pkgreader.py:22\u001b[0m, in \u001b[0;36mPackageReader.from_file\u001b[1;34m(pkg_file)\u001b[0m\n\u001b[0;32m     19\u001b[0m \u001b[38;5;129m@staticmethod\u001b[39m\n\u001b[0;32m     20\u001b[0m \u001b[38;5;28;01mdef\u001b[39;00m \u001b[38;5;21mfrom_file\u001b[39m(pkg_file):\n\u001b[0;32m     21\u001b[0m \u001b[38;5;250m    \u001b[39m\u001b[38;5;124;03m\"\"\"Return a |PackageReader| instance loaded with contents of `pkg_file`.\"\"\"\u001b[39;00m\n\u001b[1;32m---> 22\u001b[0m     phys_reader \u001b[38;5;241m=\u001b[39m \u001b[43mPhysPkgReader\u001b[49m\u001b[43m(\u001b[49m\u001b[43mpkg_file\u001b[49m\u001b[43m)\u001b[49m\n\u001b[0;32m     23\u001b[0m     content_types \u001b[38;5;241m=\u001b[39m _ContentTypeMap\u001b[38;5;241m.\u001b[39mfrom_xml(phys_reader\u001b[38;5;241m.\u001b[39mcontent_types_xml)\n\u001b[0;32m     24\u001b[0m     pkg_srels \u001b[38;5;241m=\u001b[39m PackageReader\u001b[38;5;241m.\u001b[39m_srels_for(phys_reader, PACKAGE_URI)\n",
      "File \u001b[1;32mC:\\menv\\Lib\\site-packages\\docx\\opc\\phys_pkg.py:21\u001b[0m, in \u001b[0;36mPhysPkgReader.__new__\u001b[1;34m(cls, pkg_file)\u001b[0m\n\u001b[0;32m     19\u001b[0m         reader_cls \u001b[38;5;241m=\u001b[39m _ZipPkgReader\n\u001b[0;32m     20\u001b[0m     \u001b[38;5;28;01melse\u001b[39;00m:\n\u001b[1;32m---> 21\u001b[0m         \u001b[38;5;28;01mraise\u001b[39;00m PackageNotFoundError(\u001b[38;5;124m\"\u001b[39m\u001b[38;5;124mPackage not found at \u001b[39m\u001b[38;5;124m'\u001b[39m\u001b[38;5;132;01m%s\u001b[39;00m\u001b[38;5;124m'\u001b[39m\u001b[38;5;124m\"\u001b[39m \u001b[38;5;241m%\u001b[39m pkg_file)\n\u001b[0;32m     22\u001b[0m \u001b[38;5;28;01melse\u001b[39;00m:  \u001b[38;5;66;03m# assume it's a stream and pass it to Zip reader to sort out\u001b[39;00m\n\u001b[0;32m     23\u001b[0m     reader_cls \u001b[38;5;241m=\u001b[39m _ZipPkgReader\n",
      "\u001b[1;31mPackageNotFoundError\u001b[0m: Package not found at 'original_questions.docx'"
     ]
    }
   ],
   "source": [
    "!pip install python-docx\n",
    "from docx import Document\n",
    "import random\n",
    "\n",
    "def extract_questions(doc_path):\n",
    "    doc = Document(doc_path)\n",
    "    questions = []\n",
    "    for table in doc.tables:\n",
    "        for row in table.rows:\n",
    "            for cell in row.cells:\n",
    "                questions.append(cell.text.strip())\n",
    "    return questions\n",
    "\n",
    "def jumble_questions(doc_path):\n",
    "    questions = extract_questions(doc_path)\n",
    "    random.shuffle(questions)\n",
    "    \n",
    "    # Update the DOCX file with the jumbled questions\n",
    "    doc = Document('C:\\menv\\BITS-ONLY.docx')\n",
    "    index = 0\n",
    "    for table in doc.tables:\n",
    "        for row in table.rows:\n",
    "            for cell in row.cells:\n",
    "                if index < len(questions):\n",
    "                    cell.text = questions[index]\n",
    "                    index += 1\n",
    "    doc.save('jumbled_questions.docx')  # Save the updated DOCX file\n",
    "\n",
    "# Usage example\n",
    "jumble_questions('original_questions.docx')\n"
   ]
  },
  {
   "cell_type": "code",
   "execution_count": 4,
   "id": "b548bf7b-76b9-4e57-8f47-1b6d170e14c7",
   "metadata": {},
   "outputs": [
    {
     "name": "stderr",
     "output_type": "stream",
     "text": [
      "<>:38: SyntaxWarning: invalid escape sequence '\\m'\n",
      "<>:38: SyntaxWarning: invalid escape sequence '\\m'\n",
      "C:\\Users\\Hari\\AppData\\Local\\Temp\\ipykernel_14700\\1219278106.py:38: SyntaxWarning: invalid escape sequence '\\m'\n",
      "  jumble_questions('C:\\menv\\BITS-ONLY.docx')\n"
     ]
    },
    {
     "name": "stdout",
     "output_type": "stream",
     "text": [
      "Trying to jumble questions in: C:\\menv\\BITS-ONLY.docx\n",
      "Jumbled questions saved to: jumbled_questions.docx\n"
     ]
    }
   ],
   "source": [
    "from docx import Document\n",
    "import random\n",
    "\n",
    "def extract_questions(doc_path):\n",
    "    doc = Document(doc_path)\n",
    "    questions = []\n",
    "    for table in doc.tables:\n",
    "        for row in table.rows:\n",
    "            for cell in row.cells:\n",
    "                questions.append(cell.text.strip())\n",
    "    return questions\n",
    "\n",
    "def jumble_questions(doc_path):\n",
    "    print(f\"Trying to jumble questions in: {doc_path}\")\n",
    "    \n",
    "    try:\n",
    "        questions = extract_questions(doc_path)\n",
    "        random.shuffle(questions)\n",
    "        \n",
    "        # Update the DOCX file with the jumbled questions\n",
    "        doc = Document(doc_path)\n",
    "        index = 0\n",
    "        for table in doc.tables:\n",
    "            for row in table.rows:\n",
    "                for cell in row.cells:\n",
    "                    if index < len(questions):\n",
    "                        cell.text = questions[index]\n",
    "                        index += 1\n",
    "        \n",
    "        output_path = 'jumbled_questions.docx'\n",
    "        doc.save(output_path)  # Save the updated DOCX file\n",
    "        print(f\"Jumbled questions saved to: {output_path}\")\n",
    "        \n",
    "    except Exception as e:\n",
    "        print(f\"Error processing {doc_path}: {e}\")\n",
    "\n",
    "# Usage example with full path to the DOCX file\n",
    "jumble_questions('C:\\menv\\BITS-ONLY.docx')\n"
   ]
  },
  {
   "cell_type": "code",
   "execution_count": 22,
   "id": "19901240-e348-4cc9-b15d-47cbefdeefa6",
   "metadata": {},
   "outputs": [
    {
     "data": {
      "text/html": [
       "<div>\n",
       "<style scoped>\n",
       "    .dataframe tbody tr th:only-of-type {\n",
       "        vertical-align: middle;\n",
       "    }\n",
       "\n",
       "    .dataframe tbody tr th {\n",
       "        vertical-align: top;\n",
       "    }\n",
       "\n",
       "    .dataframe thead th {\n",
       "        text-align: right;\n",
       "    }\n",
       "</style>\n",
       "<table border=\"1\" class=\"dataframe\">\n",
       "  <thead>\n",
       "    <tr style=\"text-align: right;\">\n",
       "      <th></th>\n",
       "      <th>स.\\nQ.No</th>\n",
       "      <th>/Question</th>\n",
       "    </tr>\n",
       "  </thead>\n",
       "  <tbody>\n",
       "    <tr>\n",
       "      <th>0</th>\n",
       "      <td>1</td>\n",
       "      <td>संगठना भक भू   ा ह ?\\n[A]   फं धन  टीभ   ाया  ...</td>\n",
       "    </tr>\n",
       "    <tr>\n",
       "      <th>1</th>\n",
       "      <td>2</td>\n",
       "      <td>अऩने व ि◌ भ  सपर होने के   रए अ ा     होना ज य...</td>\n",
       "    </tr>\n",
       "  </tbody>\n",
       "</table>\n",
       "</div>"
      ],
      "text/plain": [
       "      स.\\nQ.No                                          /Question\n",
       "0            1  संगठना भक भू   ा ह ?\\n[A]   फं धन  टीभ   ाया  ...\n",
       "1            2  अऩने व ि◌ भ  सपर होने के   रए अ ा     होना ज य..."
      ]
     },
     "execution_count": 22,
     "metadata": {},
     "output_type": "execute_result"
    }
   ],
   "source": [
    "import pandas as pd\n",
    "df=pd.read_excel(r\"bits.xlsx\")\n",
    "df.head(2)"
   ]
  },
  {
   "cell_type": "code",
   "execution_count": 24,
   "id": "a390be8c-dfdb-4893-82f9-1a5cb1b099bc",
   "metadata": {},
   "outputs": [],
   "source": [
    "seconddf=df.loc[[40,58,10,21,149,120,8,111,76,88,48,4,150,182,176,197,2,63,78,99,19,95,170,48,132,190,92,3,0,199,117,57,11,153,7,74,118,89,1,148]]"
   ]
  },
  {
   "cell_type": "code",
   "execution_count": 25,
   "id": "b1b9bb98-1e80-4a58-a6ed-da8bfa5ff892",
   "metadata": {},
   "outputs": [],
   "source": [
    "seconddf.to_excel(\"secondpage.xlsx\",index=False)"
   ]
  },
  {
   "cell_type": "code",
   "execution_count": 1,
   "id": "7c6885cc-041b-4829-ad5e-7747e9add934",
   "metadata": {},
   "outputs": [],
   "source": [
    "import pandas as pd"
   ]
  },
  {
   "cell_type": "code",
   "execution_count": 2,
   "id": "d7930fde-9d4d-4384-90a5-948f1e59c5d7",
   "metadata": {},
   "outputs": [],
   "source": [
    "carsales={\"Mercedes\":[1,2,3,5],\"Benz\":[5,7,8,9]}"
   ]
  },
  {
   "cell_type": "code",
   "execution_count": 3,
   "id": "81463d47-7fd8-49a3-8eac-cdbeb4cfe92e",
   "metadata": {},
   "outputs": [
    {
     "name": "stdout",
     "output_type": "stream",
     "text": [
      "dict_values([[1, 2, 3, 5], [5, 7, 8, 9]])\n"
     ]
    }
   ],
   "source": [
    "print(carsales.values())"
   ]
  },
  {
   "cell_type": "code",
   "execution_count": 4,
   "id": "6629ea7c-9d6f-498d-8f56-bb13f2d1fe1f",
   "metadata": {},
   "outputs": [],
   "source": [
    "df=pd.DataFrame(carsales)\n"
   ]
  },
  {
   "cell_type": "code",
   "execution_count": 5,
   "id": "40e676ef-b921-47d9-88da-71c4db0cd6f4",
   "metadata": {},
   "outputs": [
    {
     "data": {
      "text/html": [
       "<div>\n",
       "<style scoped>\n",
       "    .dataframe tbody tr th:only-of-type {\n",
       "        vertical-align: middle;\n",
       "    }\n",
       "\n",
       "    .dataframe tbody tr th {\n",
       "        vertical-align: top;\n",
       "    }\n",
       "\n",
       "    .dataframe thead th {\n",
       "        text-align: right;\n",
       "    }\n",
       "</style>\n",
       "<table border=\"1\" class=\"dataframe\">\n",
       "  <thead>\n",
       "    <tr style=\"text-align: right;\">\n",
       "      <th></th>\n",
       "      <th>Mercedes</th>\n",
       "      <th>Benz</th>\n",
       "    </tr>\n",
       "  </thead>\n",
       "  <tbody>\n",
       "    <tr>\n",
       "      <th>0</th>\n",
       "      <td>1</td>\n",
       "      <td>5</td>\n",
       "    </tr>\n",
       "    <tr>\n",
       "      <th>1</th>\n",
       "      <td>2</td>\n",
       "      <td>7</td>\n",
       "    </tr>\n",
       "    <tr>\n",
       "      <th>2</th>\n",
       "      <td>3</td>\n",
       "      <td>8</td>\n",
       "    </tr>\n",
       "    <tr>\n",
       "      <th>3</th>\n",
       "      <td>5</td>\n",
       "      <td>9</td>\n",
       "    </tr>\n",
       "  </tbody>\n",
       "</table>\n",
       "</div>"
      ],
      "text/plain": [
       "   Mercedes  Benz\n",
       "0         1     5\n",
       "1         2     7\n",
       "2         3     8\n",
       "3         5     9"
      ]
     },
     "execution_count": 5,
     "metadata": {},
     "output_type": "execute_result"
    }
   ],
   "source": [
    "df.style.hide"
   ]
  },
  {
   "cell_type": "code",
   "execution_count": 13,
   "id": "d5ec6ac6-578e-4b39-b0be-2105b30dc051",
   "metadata": {},
   "outputs": [
    {
     "name": "stdout",
     "output_type": "stream",
     "text": [
      " Mercedes  Benz\n",
      "        1     5\n",
      "        2     7\n",
      "        3     8\n",
      "        5     9\n"
     ]
    }
   ],
   "source": [
    "print(df.to_string(index=False))"
   ]
  },
  {
   "cell_type": "code",
   "execution_count": 14,
   "id": "2ac7a7cc-edfd-417b-b82a-f03856ff25cc",
   "metadata": {},
   "outputs": [],
   "source": [
    "df = df.reset_index(drop=True)"
   ]
  },
  {
   "cell_type": "code",
   "execution_count": 15,
   "id": "d846ae9d-c548-438a-8c38-ed55021b98a6",
   "metadata": {},
   "outputs": [
    {
     "data": {
      "text/html": [
       "<div>\n",
       "<style scoped>\n",
       "    .dataframe tbody tr th:only-of-type {\n",
       "        vertical-align: middle;\n",
       "    }\n",
       "\n",
       "    .dataframe tbody tr th {\n",
       "        vertical-align: top;\n",
       "    }\n",
       "\n",
       "    .dataframe thead th {\n",
       "        text-align: right;\n",
       "    }\n",
       "</style>\n",
       "<table border=\"1\" class=\"dataframe\">\n",
       "  <thead>\n",
       "    <tr style=\"text-align: right;\">\n",
       "      <th></th>\n",
       "      <th>Mercedes</th>\n",
       "      <th>Benz</th>\n",
       "    </tr>\n",
       "  </thead>\n",
       "  <tbody>\n",
       "    <tr>\n",
       "      <th>0</th>\n",
       "      <td>1</td>\n",
       "      <td>5</td>\n",
       "    </tr>\n",
       "    <tr>\n",
       "      <th>1</th>\n",
       "      <td>2</td>\n",
       "      <td>7</td>\n",
       "    </tr>\n",
       "    <tr>\n",
       "      <th>2</th>\n",
       "      <td>3</td>\n",
       "      <td>8</td>\n",
       "    </tr>\n",
       "    <tr>\n",
       "      <th>3</th>\n",
       "      <td>5</td>\n",
       "      <td>9</td>\n",
       "    </tr>\n",
       "  </tbody>\n",
       "</table>\n",
       "</div>"
      ],
      "text/plain": [
       "   Mercedes  Benz\n",
       "0         1     5\n",
       "1         2     7\n",
       "2         3     8\n",
       "3         5     9"
      ]
     },
     "execution_count": 15,
     "metadata": {},
     "output_type": "execute_result"
    }
   ],
   "source": [
    "df"
   ]
  },
  {
   "cell_type": "code",
   "execution_count": 21,
   "id": "c07c5e4f-82f7-492a-9f5f-e49ed232661b",
   "metadata": {},
   "outputs": [
    {
     "name": "stdout",
     "output_type": "stream",
     "text": [
      "RangeIndex(start=0, stop=4, step=1)\n"
     ]
    }
   ],
   "source": [
    "print(df.index)\n"
   ]
  },
  {
   "cell_type": "code",
   "execution_count": 22,
   "id": "186e3cb9-1dd0-4755-b4a9-6ee806820593",
   "metadata": {},
   "outputs": [],
   "source": [
    "df.index=range(1,len(df)+1)"
   ]
  },
  {
   "cell_type": "code",
   "execution_count": 23,
   "id": "373f5e84-871a-4463-9599-912d128540ae",
   "metadata": {},
   "outputs": [
    {
     "data": {
      "text/html": [
       "<div>\n",
       "<style scoped>\n",
       "    .dataframe tbody tr th:only-of-type {\n",
       "        vertical-align: middle;\n",
       "    }\n",
       "\n",
       "    .dataframe tbody tr th {\n",
       "        vertical-align: top;\n",
       "    }\n",
       "\n",
       "    .dataframe thead th {\n",
       "        text-align: right;\n",
       "    }\n",
       "</style>\n",
       "<table border=\"1\" class=\"dataframe\">\n",
       "  <thead>\n",
       "    <tr style=\"text-align: right;\">\n",
       "      <th></th>\n",
       "      <th>Mercedes</th>\n",
       "      <th>Benz</th>\n",
       "    </tr>\n",
       "  </thead>\n",
       "  <tbody>\n",
       "    <tr>\n",
       "      <th>1</th>\n",
       "      <td>1</td>\n",
       "      <td>5</td>\n",
       "    </tr>\n",
       "    <tr>\n",
       "      <th>2</th>\n",
       "      <td>2</td>\n",
       "      <td>7</td>\n",
       "    </tr>\n",
       "    <tr>\n",
       "      <th>3</th>\n",
       "      <td>3</td>\n",
       "      <td>8</td>\n",
       "    </tr>\n",
       "    <tr>\n",
       "      <th>4</th>\n",
       "      <td>5</td>\n",
       "      <td>9</td>\n",
       "    </tr>\n",
       "  </tbody>\n",
       "</table>\n",
       "</div>"
      ],
      "text/plain": [
       "   Mercedes  Benz\n",
       "1         1     5\n",
       "2         2     7\n",
       "3         3     8\n",
       "4         5     9"
      ]
     },
     "execution_count": 23,
     "metadata": {},
     "output_type": "execute_result"
    }
   ],
   "source": [
    "df"
   ]
  },
  {
   "cell_type": "code",
   "execution_count": 24,
   "id": "a282e6f8-f0df-4068-907f-443f4ad62aaf",
   "metadata": {},
   "outputs": [
    {
     "data": {
      "text/html": [
       "<div>\n",
       "<style scoped>\n",
       "    .dataframe tbody tr th:only-of-type {\n",
       "        vertical-align: middle;\n",
       "    }\n",
       "\n",
       "    .dataframe tbody tr th {\n",
       "        vertical-align: top;\n",
       "    }\n",
       "\n",
       "    .dataframe thead th {\n",
       "        text-align: right;\n",
       "    }\n",
       "</style>\n",
       "<table border=\"1\" class=\"dataframe\">\n",
       "  <thead>\n",
       "    <tr style=\"text-align: right;\">\n",
       "      <th></th>\n",
       "      <th>Mercedes</th>\n",
       "      <th>Benz</th>\n",
       "    </tr>\n",
       "    <tr>\n",
       "      <th>Benz</th>\n",
       "      <th></th>\n",
       "      <th></th>\n",
       "    </tr>\n",
       "  </thead>\n",
       "  <tbody>\n",
       "    <tr>\n",
       "      <th>5</th>\n",
       "      <td>1</td>\n",
       "      <td>5</td>\n",
       "    </tr>\n",
       "    <tr>\n",
       "      <th>7</th>\n",
       "      <td>2</td>\n",
       "      <td>7</td>\n",
       "    </tr>\n",
       "    <tr>\n",
       "      <th>8</th>\n",
       "      <td>3</td>\n",
       "      <td>8</td>\n",
       "    </tr>\n",
       "    <tr>\n",
       "      <th>9</th>\n",
       "      <td>5</td>\n",
       "      <td>9</td>\n",
       "    </tr>\n",
       "  </tbody>\n",
       "</table>\n",
       "</div>"
      ],
      "text/plain": [
       "      Mercedes  Benz\n",
       "Benz                \n",
       "5            1     5\n",
       "7            2     7\n",
       "8            3     8\n",
       "9            5     9"
      ]
     },
     "execution_count": 24,
     "metadata": {},
     "output_type": "execute_result"
    }
   ],
   "source": [
    "df.set_index(df['Benz'])"
   ]
  },
  {
   "cell_type": "code",
   "execution_count": 25,
   "id": "ce5f533d-ca1f-4e4f-bfb1-b604a10f0ecf",
   "metadata": {},
   "outputs": [],
   "source": [
    "df = df.reset_index(drop=True)"
   ]
  },
  {
   "cell_type": "code",
   "execution_count": 26,
   "id": "3cf8f1db-9588-489d-a412-47899d8c8dfb",
   "metadata": {},
   "outputs": [
    {
     "data": {
      "text/html": [
       "<div>\n",
       "<style scoped>\n",
       "    .dataframe tbody tr th:only-of-type {\n",
       "        vertical-align: middle;\n",
       "    }\n",
       "\n",
       "    .dataframe tbody tr th {\n",
       "        vertical-align: top;\n",
       "    }\n",
       "\n",
       "    .dataframe thead th {\n",
       "        text-align: right;\n",
       "    }\n",
       "</style>\n",
       "<table border=\"1\" class=\"dataframe\">\n",
       "  <thead>\n",
       "    <tr style=\"text-align: right;\">\n",
       "      <th></th>\n",
       "      <th>Mercedes</th>\n",
       "      <th>Benz</th>\n",
       "    </tr>\n",
       "  </thead>\n",
       "  <tbody>\n",
       "    <tr>\n",
       "      <th>0</th>\n",
       "      <td>1</td>\n",
       "      <td>5</td>\n",
       "    </tr>\n",
       "    <tr>\n",
       "      <th>1</th>\n",
       "      <td>2</td>\n",
       "      <td>7</td>\n",
       "    </tr>\n",
       "    <tr>\n",
       "      <th>2</th>\n",
       "      <td>3</td>\n",
       "      <td>8</td>\n",
       "    </tr>\n",
       "    <tr>\n",
       "      <th>3</th>\n",
       "      <td>5</td>\n",
       "      <td>9</td>\n",
       "    </tr>\n",
       "  </tbody>\n",
       "</table>\n",
       "</div>"
      ],
      "text/plain": [
       "   Mercedes  Benz\n",
       "0         1     5\n",
       "1         2     7\n",
       "2         3     8\n",
       "3         5     9"
      ]
     },
     "execution_count": 26,
     "metadata": {},
     "output_type": "execute_result"
    }
   ],
   "source": [
    "df"
   ]
  },
  {
   "cell_type": "code",
   "execution_count": 27,
   "id": "bc54b5b6-9de9-4924-9307-d1e87f41fe44",
   "metadata": {},
   "outputs": [],
   "source": [
    "df.index=range(1,len(df)+1)"
   ]
  },
  {
   "cell_type": "code",
   "execution_count": 28,
   "id": "7893a5c1-1b94-4d87-adf4-63a38ffef152",
   "metadata": {},
   "outputs": [
    {
     "data": {
      "text/html": [
       "<div>\n",
       "<style scoped>\n",
       "    .dataframe tbody tr th:only-of-type {\n",
       "        vertical-align: middle;\n",
       "    }\n",
       "\n",
       "    .dataframe tbody tr th {\n",
       "        vertical-align: top;\n",
       "    }\n",
       "\n",
       "    .dataframe thead th {\n",
       "        text-align: right;\n",
       "    }\n",
       "</style>\n",
       "<table border=\"1\" class=\"dataframe\">\n",
       "  <thead>\n",
       "    <tr style=\"text-align: right;\">\n",
       "      <th></th>\n",
       "      <th>Mercedes</th>\n",
       "      <th>Benz</th>\n",
       "    </tr>\n",
       "  </thead>\n",
       "  <tbody>\n",
       "    <tr>\n",
       "      <th>1</th>\n",
       "      <td>1</td>\n",
       "      <td>5</td>\n",
       "    </tr>\n",
       "    <tr>\n",
       "      <th>2</th>\n",
       "      <td>2</td>\n",
       "      <td>7</td>\n",
       "    </tr>\n",
       "    <tr>\n",
       "      <th>3</th>\n",
       "      <td>3</td>\n",
       "      <td>8</td>\n",
       "    </tr>\n",
       "    <tr>\n",
       "      <th>4</th>\n",
       "      <td>5</td>\n",
       "      <td>9</td>\n",
       "    </tr>\n",
       "  </tbody>\n",
       "</table>\n",
       "</div>"
      ],
      "text/plain": [
       "   Mercedes  Benz\n",
       "1         1     5\n",
       "2         2     7\n",
       "3         3     8\n",
       "4         5     9"
      ]
     },
     "execution_count": 28,
     "metadata": {},
     "output_type": "execute_result"
    }
   ],
   "source": [
    "df"
   ]
  },
  {
   "cell_type": "code",
   "execution_count": 29,
   "id": "61b71f90-8983-4c56-8162-8c5bf11c096a",
   "metadata": {},
   "outputs": [
    {
     "data": {
      "text/html": [
       "<div>\n",
       "<style scoped>\n",
       "    .dataframe tbody tr th:only-of-type {\n",
       "        vertical-align: middle;\n",
       "    }\n",
       "\n",
       "    .dataframe tbody tr th {\n",
       "        vertical-align: top;\n",
       "    }\n",
       "\n",
       "    .dataframe thead th {\n",
       "        text-align: right;\n",
       "    }\n",
       "</style>\n",
       "<table border=\"1\" class=\"dataframe\">\n",
       "  <thead>\n",
       "    <tr style=\"text-align: right;\">\n",
       "      <th></th>\n",
       "      <th>Mercedes</th>\n",
       "      <th>Benz</th>\n",
       "    </tr>\n",
       "  </thead>\n",
       "  <tbody>\n",
       "    <tr>\n",
       "      <th>0</th>\n",
       "      <td>1</td>\n",
       "      <td>5</td>\n",
       "    </tr>\n",
       "    <tr>\n",
       "      <th>1</th>\n",
       "      <td>2</td>\n",
       "      <td>7</td>\n",
       "    </tr>\n",
       "    <tr>\n",
       "      <th>2</th>\n",
       "      <td>3</td>\n",
       "      <td>8</td>\n",
       "    </tr>\n",
       "    <tr>\n",
       "      <th>3</th>\n",
       "      <td>5</td>\n",
       "      <td>9</td>\n",
       "    </tr>\n",
       "  </tbody>\n",
       "</table>\n",
       "</div>"
      ],
      "text/plain": [
       "   Mercedes  Benz\n",
       "0         1     5\n",
       "1         2     7\n",
       "2         3     8\n",
       "3         5     9"
      ]
     },
     "execution_count": 29,
     "metadata": {},
     "output_type": "execute_result"
    }
   ],
   "source": [
    "df.reset_index(drop=True)"
   ]
  },
  {
   "cell_type": "code",
   "execution_count": 30,
   "id": "47e0083f-a40e-408c-bb69-c86f695ebaca",
   "metadata": {},
   "outputs": [
    {
     "data": {
      "text/html": [
       "<div>\n",
       "<style scoped>\n",
       "    .dataframe tbody tr th:only-of-type {\n",
       "        vertical-align: middle;\n",
       "    }\n",
       "\n",
       "    .dataframe tbody tr th {\n",
       "        vertical-align: top;\n",
       "    }\n",
       "\n",
       "    .dataframe thead th {\n",
       "        text-align: right;\n",
       "    }\n",
       "</style>\n",
       "<table border=\"1\" class=\"dataframe\">\n",
       "  <thead>\n",
       "    <tr style=\"text-align: right;\">\n",
       "      <th></th>\n",
       "      <th>Mercedes</th>\n",
       "      <th>Benz</th>\n",
       "    </tr>\n",
       "  </thead>\n",
       "  <tbody>\n",
       "    <tr>\n",
       "      <th>1</th>\n",
       "      <td>1</td>\n",
       "      <td>5</td>\n",
       "    </tr>\n",
       "    <tr>\n",
       "      <th>2</th>\n",
       "      <td>2</td>\n",
       "      <td>7</td>\n",
       "    </tr>\n",
       "    <tr>\n",
       "      <th>3</th>\n",
       "      <td>3</td>\n",
       "      <td>8</td>\n",
       "    </tr>\n",
       "    <tr>\n",
       "      <th>4</th>\n",
       "      <td>5</td>\n",
       "      <td>9</td>\n",
       "    </tr>\n",
       "  </tbody>\n",
       "</table>\n",
       "</div>"
      ],
      "text/plain": [
       "   Mercedes  Benz\n",
       "1         1     5\n",
       "2         2     7\n",
       "3         3     8\n",
       "4         5     9"
      ]
     },
     "execution_count": 30,
     "metadata": {},
     "output_type": "execute_result"
    }
   ],
   "source": [
    "df"
   ]
  },
  {
   "cell_type": "code",
   "execution_count": 32,
   "id": "55eb6c46-8862-466c-9d06-7703e7640450",
   "metadata": {},
   "outputs": [],
   "source": [
    "df.reset_index(drop=True,inplace=True)"
   ]
  },
  {
   "cell_type": "code",
   "execution_count": 33,
   "id": "00db4526-12b5-4878-9e57-db9342c8a773",
   "metadata": {},
   "outputs": [
    {
     "data": {
      "text/html": [
       "<div>\n",
       "<style scoped>\n",
       "    .dataframe tbody tr th:only-of-type {\n",
       "        vertical-align: middle;\n",
       "    }\n",
       "\n",
       "    .dataframe tbody tr th {\n",
       "        vertical-align: top;\n",
       "    }\n",
       "\n",
       "    .dataframe thead th {\n",
       "        text-align: right;\n",
       "    }\n",
       "</style>\n",
       "<table border=\"1\" class=\"dataframe\">\n",
       "  <thead>\n",
       "    <tr style=\"text-align: right;\">\n",
       "      <th></th>\n",
       "      <th>Mercedes</th>\n",
       "      <th>Benz</th>\n",
       "    </tr>\n",
       "  </thead>\n",
       "  <tbody>\n",
       "    <tr>\n",
       "      <th>0</th>\n",
       "      <td>1</td>\n",
       "      <td>5</td>\n",
       "    </tr>\n",
       "    <tr>\n",
       "      <th>1</th>\n",
       "      <td>2</td>\n",
       "      <td>7</td>\n",
       "    </tr>\n",
       "    <tr>\n",
       "      <th>2</th>\n",
       "      <td>3</td>\n",
       "      <td>8</td>\n",
       "    </tr>\n",
       "    <tr>\n",
       "      <th>3</th>\n",
       "      <td>5</td>\n",
       "      <td>9</td>\n",
       "    </tr>\n",
       "  </tbody>\n",
       "</table>\n",
       "</div>"
      ],
      "text/plain": [
       "   Mercedes  Benz\n",
       "0         1     5\n",
       "1         2     7\n",
       "2         3     8\n",
       "3         5     9"
      ]
     },
     "execution_count": 33,
     "metadata": {},
     "output_type": "execute_result"
    }
   ],
   "source": [
    "df\n"
   ]
  },
  {
   "cell_type": "code",
   "execution_count": 34,
   "id": "b23dbc4d-eb63-40bb-9aec-04064e947ba2",
   "metadata": {},
   "outputs": [
    {
     "name": "stdout",
     "output_type": "stream",
     "text": [
      "   A  B    C\n",
      "0  1  a  0.1\n",
      "3  4  d  0.4\n",
      "2  3  c  0.3\n",
      "   A  B    C\n",
      "1  2  b  0.2\n",
      "4  5  e  0.5\n",
      "2  3  c  0.3\n"
     ]
    }
   ],
   "source": []
  },
  {
   "cell_type": "code",
   "execution_count": 35,
   "id": "6f10d1d2-085f-42d8-83ba-8ddd23670fd9",
   "metadata": {},
   "outputs": [
    {
     "name": "stdout",
     "output_type": "stream",
     "text": [
      "51\n"
     ]
    }
   ],
   "source": [
    "import random\n",
    "\n",
    "# Generate a random integer between 1 and 100\n",
    "random_int = random.randint(1, 100)\n",
    "print(random_int)\n"
   ]
  },
  {
   "cell_type": "code",
   "execution_count": 36,
   "id": "5605aa5c-b974-4479-9de6-8f3cf9276f30",
   "metadata": {},
   "outputs": [
    {
     "name": "stdout",
     "output_type": "stream",
     "text": [
      "   RandomNumbers\n",
      "0              5\n",
      "1             76\n",
      "2             37\n",
      "3             15\n",
      "4             49\n",
      "5             38\n",
      "6            100\n",
      "7             72\n",
      "8              7\n",
      "9             51\n"
     ]
    }
   ],
   "source": [
    "import pandas as pd\n",
    "import numpy as np\n",
    "\n",
    "\n",
    "# Print the DataFrame\n",
    "print(df)\n"
   ]
  },
  {
   "cell_type": "code",
   "execution_count": 43,
   "id": "d8588e3d-3c25-4061-8000-af9ea622103e",
   "metadata": {},
   "outputs": [
    {
     "data": {
      "text/html": [
       "<div>\n",
       "<style scoped>\n",
       "    .dataframe tbody tr th:only-of-type {\n",
       "        vertical-align: middle;\n",
       "    }\n",
       "\n",
       "    .dataframe tbody tr th {\n",
       "        vertical-align: top;\n",
       "    }\n",
       "\n",
       "    .dataframe thead th {\n",
       "        text-align: right;\n",
       "    }\n",
       "</style>\n",
       "<table border=\"1\" class=\"dataframe\">\n",
       "  <thead>\n",
       "    <tr style=\"text-align: right;\">\n",
       "      <th></th>\n",
       "      <th>स.\\nQ.No</th>\n",
       "      <th>/Question</th>\n",
       "    </tr>\n",
       "  </thead>\n",
       "  <tbody>\n",
       "    <tr>\n",
       "      <th>1</th>\n",
       "      <td>1</td>\n",
       "      <td>संगठना भक भू   ा ह ?\\n[A]   फं धन  टीभ   ाया  ...</td>\n",
       "    </tr>\n",
       "    <tr>\n",
       "      <th>2</th>\n",
       "      <td>2</td>\n",
       "      <td>अऩने व ि◌ भ  सपर होने के   रए अ ा     होना ज य...</td>\n",
       "    </tr>\n",
       "    <tr>\n",
       "      <th>3</th>\n",
       "      <td>3</td>\n",
       "      <td>भजफू त का अथग है क आऩके   ऩास नैनतक औय नैनतक  ...</td>\n",
       "    </tr>\n",
       "    <tr>\n",
       "      <th>4</th>\n",
       "      <td>4</td>\n",
       "      <td>महद  आऩ  अऩने  भू ों  के    साथ  खडे  ह  , तो ...</td>\n",
       "    </tr>\n",
       "    <tr>\n",
       "      <th>5</th>\n",
       "      <td>5</td>\n",
       "      <td>कु  छ काभ अके  रे  नहीं कए जा सकते ह  औय महद आ...</td>\n",
       "    </tr>\n",
       "    <tr>\n",
       "      <th>6</th>\n",
       "      <td>6</td>\n",
       "      <td>कसी संगठन भ  सबी कभगचारयमों के   मवहाय को ननदे...</td>\n",
       "    </tr>\n",
       "    <tr>\n",
       "      <th>7</th>\n",
       "      <td>7</td>\n",
       "      <td>साझा संगठना भक भू ों का उ े  है।\\n[A]...</td>\n",
       "    </tr>\n",
       "    <tr>\n",
       "      <th>8</th>\n",
       "      <td>8</td>\n",
       "      <td>एक ऐसा कायक है जो नैनतक औय अनैनतक  म...</td>\n",
       "    </tr>\n",
       "    <tr>\n",
       "      <th>9</th>\n",
       "      <td>9</td>\n",
       "      <td>उन  स ांतो,ं  भू ों औय  व ासों को ...</td>\n",
       "    </tr>\n",
       "    <tr>\n",
       "      <th>10</th>\n",
       "      <td>10</td>\n",
       "      <td>\"नैनतकता\"                 से आमा है|\\n[A] रोका...</td>\n",
       "    </tr>\n",
       "  </tbody>\n",
       "</table>\n",
       "</div>"
      ],
      "text/plain": [
       "       स.\\nQ.No                                          /Question\n",
       "1             1  संगठना भक भू   ा ह ?\\n[A]   फं धन  टीभ   ाया  ...\n",
       "2             2  अऩने व ि◌ भ  सपर होने के   रए अ ा     होना ज य...\n",
       "3             3  भजफू त का अथग है क आऩके   ऩास नैनतक औय नैनतक  ...\n",
       "4             4  महद  आऩ  अऩने  भू ों  के    साथ  खडे  ह  , तो ...\n",
       "5             5  कु  छ काभ अके  रे  नहीं कए जा सकते ह  औय महद आ...\n",
       "6             6  कसी संगठन भ  सबी कभगचारयमों के   मवहाय को ननदे...\n",
       "7             7           साझा संगठना भक भू ों का उ े  है।\\n[A]...\n",
       "8             8            एक ऐसा कायक है जो नैनतक औय अनैनतक  म...\n",
       "9             9              उन  स ांतो,ं  भू ों औय  व ासों को ...\n",
       "10           10  \"नैनतकता\"                 से आमा है|\\n[A] रोका..."
      ]
     },
     "execution_count": 43,
     "metadata": {},
     "output_type": "execute_result"
    }
   ],
   "source": [
    "import pandas as pd\n",
    "import numpy as np\n",
    "\n",
    "df=pd.read_excel(r\"bits.xlsx\")\n",
    "df.index=range(1,len(df)+1)\n",
    "\n",
    "df.head(10)"
   ]
  },
  {
   "cell_type": "code",
   "execution_count": 40,
   "id": "1fe9ee1b-3cd1-46c6-ae97-06040a70333a",
   "metadata": {},
   "outputs": [
    {
     "ename": "ValueError",
     "evalue": "shape mismatch: objects cannot be broadcast to a single shape.  Mismatch is between arg 1 with shape (200,) and arg 2 with shape (10,).",
     "output_type": "error",
     "traceback": [
      "\u001b[1;31m---------------------------------------------------------------------------\u001b[0m",
      "\u001b[1;31mValueError\u001b[0m                                Traceback (most recent call last)",
      "Cell \u001b[1;32mIn[40], line 2\u001b[0m\n\u001b[0;32m      1\u001b[0m \u001b[38;5;66;03m# Generate 10 random numbers between 0 and 100\u001b[39;00m\n\u001b[1;32m----> 2\u001b[0m random_numbers \u001b[38;5;241m=\u001b[39m \u001b[43mnp\u001b[49m\u001b[38;5;241;43m.\u001b[39;49m\u001b[43mrandom\u001b[49m\u001b[38;5;241;43m.\u001b[39;49m\u001b[43mrandint\u001b[49m\u001b[43m(\u001b[49m\u001b[43mdf\u001b[49m\u001b[43m[\u001b[49m\u001b[38;5;124;43m'\u001b[39;49m\u001b[38;5;124;43m   स.\u001b[39;49m\u001b[38;5;130;43;01m\\n\u001b[39;49;00m\u001b[38;5;124;43mQ.No\u001b[39;49m\u001b[38;5;124;43m'\u001b[39;49m\u001b[43m]\u001b[49m\u001b[43m,\u001b[49m\u001b[43m \u001b[49m\u001b[43msize\u001b[49m\u001b[38;5;241;43m=\u001b[39;49m\u001b[38;5;241;43m10\u001b[39;49m\u001b[43m)\u001b[49m\n\u001b[0;32m      4\u001b[0m \u001b[38;5;66;03m# Create a DataFrame with the random numbers in a column\u001b[39;00m\n\u001b[0;32m      5\u001b[0m df \u001b[38;5;241m=\u001b[39m pd\u001b[38;5;241m.\u001b[39mDataFrame({\u001b[38;5;124m'\u001b[39m\u001b[38;5;124mRandomNumbers\u001b[39m\u001b[38;5;124m'\u001b[39m: random_numbers})\n",
      "File \u001b[1;32mnumpy\\\\random\\\\mtrand.pyx:779\u001b[0m, in \u001b[0;36mnumpy.random.mtrand.RandomState.randint\u001b[1;34m()\u001b[0m\n",
      "File \u001b[1;32mnumpy\\\\random\\\\_bounded_integers.pyx:2915\u001b[0m, in \u001b[0;36mnumpy.random._bounded_integers._rand_int32\u001b[1;34m()\u001b[0m\n",
      "File \u001b[1;32mnumpy\\\\random\\\\_bounded_integers.pyx:853\u001b[0m, in \u001b[0;36mnumpy.random._bounded_integers._rand_int32_broadcast\u001b[1;34m()\u001b[0m\n",
      "File \u001b[1;32mC:\\menv\\Lib\\site-packages\\numpy\\__init__.cython-30.pxd:780\u001b[0m, in \u001b[0;36mnumpy.PyArray_MultiIterNew3\u001b[1;34m()\u001b[0m\n",
      "\u001b[1;31mValueError\u001b[0m: shape mismatch: objects cannot be broadcast to a single shape.  Mismatch is between arg 1 with shape (200,) and arg 2 with shape (10,)."
     ]
    }
   ],
   "source": []
  },
  {
   "cell_type": "code",
   "execution_count": 44,
   "id": "2fc61787-e413-464f-8eba-03be9afcf614",
   "metadata": {},
   "outputs": [
    {
     "name": "stdout",
     "output_type": "stream",
     "text": [
      "        स.\\nQ.No                                          /Question\n",
      "0             35  ऩो का  (POMKA)  अट   (अ◌ा◌ं  ेज़ी  म )         ...\n",
      "1             25  पाइस  ाया उ ऩ   कए गए रे  ऱे  रसीद भ          ...\n",
      "2            142  ननरफन के   रए  मु  भानक  ऩ  स ा               ...\n",
      "3            125  भारगाडी  की   ेक वैन  भ   गाडग के    अरावा  मा...\n",
      "4             22  बायतीम येरवे  आऩदा  फं धन संथथान (IRIDM),     ...\n",
      "..           ...                                                ...\n",
      "195          140  अवांनछत  घटनाओं  के    रए  भुआवजा  येरवे  अ धन...\n",
      "196          148  आ  तो सहहत सु वधा ऩास भ               सदथमों क...\n",
      "197           54  एपएनआर का ऩूरा  ऩ (अं ेजी भ )               है...\n",
      "198          195  बायत के  सं वधान के  अनुसाय संघ की याजबाि◌◌ा ह...\n",
      "199          194  तीसरा  िवग  के    दौयान  एचएचटी  डवाइस  के    ...\n",
      "\n",
      "[200 rows x 2 columns]\n"
     ]
    }
   ],
   "source": [
    "import pandas as pd\n",
    "import numpy as np\n",
    "\n",
    "# Example DataFrame\n",
    "\n",
    "\n",
    "df = pd.read_excel(r\"bits.xlsx\")\n",
    "df=pd.DataFrame(df)\n",
    "# Shuffle the values in each column randomly\n",
    "for col in df.columns:\n",
    "    df[col] = np.random.permutation(df[col])\n",
    "\n",
    "# Print the DataFrame with shuffled values\n",
    "print(df)\n"
   ]
  },
  {
   "cell_type": "code",
   "execution_count": 3,
   "id": "dd419a30-146b-4d00-b9be-538d34a44130",
   "metadata": {},
   "outputs": [],
   "source": [
    "import pandas as pd\n",
    "df=pd.read_excel(r\"bits.xlsx\")\n",
    "df.index=range(1,len(df)+1)"
   ]
  },
  {
   "cell_type": "code",
   "execution_count": 4,
   "id": "d6e26fb8-a8e5-44c5-908f-6af503a81a93",
   "metadata": {},
   "outputs": [
    {
     "data": {
      "text/html": [
       "<div>\n",
       "<style scoped>\n",
       "    .dataframe tbody tr th:only-of-type {\n",
       "        vertical-align: middle;\n",
       "    }\n",
       "\n",
       "    .dataframe tbody tr th {\n",
       "        vertical-align: top;\n",
       "    }\n",
       "\n",
       "    .dataframe thead th {\n",
       "        text-align: right;\n",
       "    }\n",
       "</style>\n",
       "<table border=\"1\" class=\"dataframe\">\n",
       "  <thead>\n",
       "    <tr style=\"text-align: right;\">\n",
       "      <th></th>\n",
       "      <th>स.\\nQ.No</th>\n",
       "      <th>/Question</th>\n",
       "    </tr>\n",
       "  </thead>\n",
       "  <tbody>\n",
       "    <tr>\n",
       "      <th>1</th>\n",
       "      <td>1</td>\n",
       "      <td>संगठना भक भू   ा ह ?\\n[A]   फं धन  टीभ   ाया  ...</td>\n",
       "    </tr>\n",
       "    <tr>\n",
       "      <th>2</th>\n",
       "      <td>2</td>\n",
       "      <td>अऩने व ि◌ भ  सपर होने के   रए अ ा     होना ज य...</td>\n",
       "    </tr>\n",
       "    <tr>\n",
       "      <th>3</th>\n",
       "      <td>3</td>\n",
       "      <td>भजफू त का अथग है क आऩके   ऩास नैनतक औय नैनतक  ...</td>\n",
       "    </tr>\n",
       "    <tr>\n",
       "      <th>4</th>\n",
       "      <td>4</td>\n",
       "      <td>महद  आऩ  अऩने  भू ों  के    साथ  खडे  ह  , तो ...</td>\n",
       "    </tr>\n",
       "    <tr>\n",
       "      <th>5</th>\n",
       "      <td>5</td>\n",
       "      <td>कु  छ काभ अके  रे  नहीं कए जा सकते ह  औय महद आ...</td>\n",
       "    </tr>\n",
       "    <tr>\n",
       "      <th>...</th>\n",
       "      <td>...</td>\n",
       "      <td>...</td>\n",
       "    </tr>\n",
       "    <tr>\n",
       "      <th>196</th>\n",
       "      <td>196</td>\n",
       "      <td>भौ रक का म, क वता सं ह को ऩुयथकृ  त कयने हेतु ...</td>\n",
       "    </tr>\n",
       "    <tr>\n",
       "      <th>197</th>\n",
       "      <td>197</td>\n",
       "      <td>याजबाि◌◌ा हहंदी भ  उ ृ    कामग कयने के   रए भह...</td>\n",
       "    </tr>\n",
       "    <tr>\n",
       "      <th>198</th>\n",
       "      <td>198</td>\n",
       "      <td>ऻ◌ान- वऻ◌ान,  व ध, सांथकृ  नतक औय  ाम से  संफं...</td>\n",
       "    </tr>\n",
       "    <tr>\n",
       "      <th>199</th>\n",
       "      <td>199</td>\n",
       "      <td>सं वधान  की  आठवीं अनुसूची  भ   एकभा    वदे र्...</td>\n",
       "    </tr>\n",
       "    <tr>\n",
       "      <th>200</th>\n",
       "      <td>200</td>\n",
       "      <td>ब बाि◌◌ा सू          के  अतगगत उऩर  कयामा गमा....</td>\n",
       "    </tr>\n",
       "  </tbody>\n",
       "</table>\n",
       "<p>200 rows × 2 columns</p>\n",
       "</div>"
      ],
      "text/plain": [
       "        स.\\nQ.No                                          /Question\n",
       "1              1  संगठना भक भू   ा ह ?\\n[A]   फं धन  टीभ   ाया  ...\n",
       "2              2  अऩने व ि◌ भ  सपर होने के   रए अ ा     होना ज य...\n",
       "3              3  भजफू त का अथग है क आऩके   ऩास नैनतक औय नैनतक  ...\n",
       "4              4  महद  आऩ  अऩने  भू ों  के    साथ  खडे  ह  , तो ...\n",
       "5              5  कु  छ काभ अके  रे  नहीं कए जा सकते ह  औय महद आ...\n",
       "..           ...                                                ...\n",
       "196          196  भौ रक का म, क वता सं ह को ऩुयथकृ  त कयने हेतु ...\n",
       "197          197  याजबाि◌◌ा हहंदी भ  उ ृ    कामग कयने के   रए भह...\n",
       "198          198  ऻ◌ान- वऻ◌ान,  व ध, सांथकृ  नतक औय  ाम से  संफं...\n",
       "199          199  सं वधान  की  आठवीं अनुसूची  भ   एकभा    वदे र्...\n",
       "200          200  ब बाि◌◌ा सू          के  अतगगत उऩर  कयामा गमा....\n",
       "\n",
       "[200 rows x 2 columns]"
      ]
     },
     "execution_count": 4,
     "metadata": {},
     "output_type": "execute_result"
    }
   ],
   "source": [
    "df"
   ]
  },
  {
   "cell_type": "code",
   "execution_count": 9,
   "id": "deeaed5f-f2c8-413e-9bfc-73ee38c15244",
   "metadata": {},
   "outputs": [
    {
     "name": "stdout",
     "output_type": "stream",
     "text": [
      "   स.\\nQ.No                                                   10\n",
      "  /Question    \"नैनतकता\"                 से आमा है|\\n[A] रोका...\n",
      "Name: 10, dtype: object\n",
      "   स.\\nQ.No                                                  101\n",
      "  /Question    आयो ऩत कभगचायी की भृ ु ऩय अनुर् ◌ासना भक कामगव...\n",
      "Name: 101, dtype: object\n",
      "   स.\\nQ.No                                                  195\n",
      "  /Question    भौ रक कथा / कहानी सं ह एवं उऩ ास रे खन को ऩुयथ...\n",
      "Name: 195, dtype: object\n",
      "   स.\\nQ.No                                                   46\n",
      "  /Question    मूटीएस मोबाइऱ ऐऩ के    आय-वॉरे ट भ    ूनतभ रयच...\n",
      "Name: 46, dtype: object\n",
      "   स.\\nQ.No                                                   69\n",
      "  /Question    महद पाइस रे  ऱे  रसीद का ऩहरा अंक 3 है, तो मह ...\n",
      "Name: 69, dtype: object\n",
      "   स.\\nQ.No                                                   39\n",
      "  /Question    ऩीएभएस  (PMS) का ऩूणग  ऩ (अं ेजी भ )          ...\n",
      "Name: 39, dtype: object\n",
      "   स.\\nQ.No                                                  181\n",
      "  /Question    बायत के  सं वधान के   कस अनु े द भ  संघ की याज...\n",
      "Name: 181, dtype: object\n",
      "   स.\\nQ.No                                                   98\n",
      "  /Question    एक थथामी येरवे  कभगचायी  को  उसकी  ऩूयी  सेवा ...\n",
      "Name: 98, dtype: object\n",
      "   स.\\nQ.No                                                   67\n",
      "  /Question    पाइस रे  ऱे  रसीद का  ऩहरा अक                स...\n",
      "Name: 67, dtype: object\n",
      "   स.\\nQ.No                                                   92\n",
      "  /Question    एरएऩी   नत  भाह        हदन की दय से येरवे कभगच...\n",
      "Name: 92, dtype: object\n",
      "   स.\\nQ.No                                                  144\n",
      "  /Question    अ  म घटना के  दौयान होनेवारी भृ ु के   रए दी ज...\n",
      "Name: 144, dtype: object\n",
      "   स.\\nQ.No                                                  141\n",
      "  /Question    गाडी  दुघगटना  भ   गबीय   ऩ  से  घामर  के    र...\n",
      "Name: 141, dtype: object\n",
      "   स.\\nQ.No                                                   44\n",
      "  /Question    एपएनआर का ऩूरा  ऩ (अं ेजी भ )               है...\n",
      "Name: 44, dtype: object\n",
      "   स.\\nQ.No                                                   65\n",
      "  /Question    पाइस रे  ऱे  रसीद भ                    ऩ े  हो...\n",
      "Name: 65, dtype: object\n",
      "   स.\\nQ.No                                                  195\n",
      "  /Question    भौ रक कथा / कहानी सं ह एवं उऩ ास रे खन को ऩुयथ...\n",
      "Name: 195, dtype: object\n",
      "   स.\\nQ.No                                                   71\n",
      "  /Question    Sr.DCM  को   ाहक   ाया  अऩरोड  कए  गए  दथतावेज...\n",
      "Name: 71, dtype: object\n",
      "   स.\\nQ.No                                                  178\n",
      "  /Question    भारगाडी  की   ेक वैन  भ   गाडग के    अरावा  मा...\n",
      "Name: 178, dtype: object\n",
      "   स.\\nQ.No                                                   13\n",
      "  /Question              बायतीम  येरवे  के     व ब   वबागों क...\n",
      "Name: 13, dtype: object\n",
      "   स.\\nQ.No                                                   97\n",
      "  /Question    एक  येरवे  कभगचायी  को  औसत  वेतन  ऩय  छु   ी ...\n",
      "Name: 97, dtype: object\n",
      "   स.\\nQ.No                                                  185\n",
      "  /Question    सं  वधान  की           अनुसूची  भ   याजबाि◌◌ाओ...\n",
      "Name: 185, dtype: object\n",
      "   स.\\nQ.No                                                  182\n",
      "  /Question    बायत के  सं वधान के  अनुसाय संघ की याजबाि◌◌ा ह...\n",
      "Name: 182, dtype: object\n",
      "   स.\\nQ.No                                                  169\n",
      "  /Question    बायतीम येरवे  आऩदा  फं धन संथथान (IRIDM),     ...\n",
      "Name: 169, dtype: object\n",
      "   स.\\nQ.No                                                  101\n",
      "  /Question    आयो ऩत कभगचायी की भृ ु ऩय अनुर् ◌ासना भक कामगव...\n",
      "Name: 101, dtype: object\n",
      "   स.\\nQ.No                                                  108\n",
      "  /Question    सतत  मास का ता ऩमग              है.\\n[A] भान स...\n",
      "Name: 108, dtype: object\n",
      "   स.\\nQ.No                                                  125\n",
      "  /Question    ऩुनयीऺण के   रए कोई बी कामगवाही          की अव...\n",
      "Name: 125, dtype: object\n",
      "   स.\\nQ.No                                                  186\n",
      "  /Question    याजबाि◌◌ा  अ धननमभ ,  1963  कीधाया            ...\n",
      "Name: 186, dtype: object\n",
      "   स.\\nQ.No                                                   51\n",
      "  /Question    टीटीई ऐऩ  परहार के  वर             पोन के   रए...\n",
      "Name: 51, dtype: object\n",
      "   स.\\nQ.No                                                   98\n",
      "  /Question    एक थथामी येरवे  कभगचायी  को  उसकी  ऩूयी  सेवा ...\n",
      "Name: 98, dtype: object\n",
      "   स.\\nQ.No                                                  191\n",
      "  /Question    स वधान की 8वी अनुसूची भ  अफ तक  कतनी बाि◌◌ाओ क...\n",
      "Name: 191, dtype: object\n",
      "   स.\\nQ.No                                                   74\n",
      "  /Question    एमएस  ि◌डट  द ाि◌◌े ज़  म ,  Ctrl+C  का  उऩयोग ...\n",
      "Name: 74, dtype: object\n",
      "   स.\\nQ.No                                                   34\n",
      "  /Question         ऐऩ बायतीम येरवे भोफाइर ए ऱीके  न  के   रए...\n",
      "Name: 34, dtype: object\n",
      "   स.\\nQ.No                                                  195\n",
      "  /Question    भौ रक कथा / कहानी सं ह एवं उऩ ास रे खन को ऩुयथ...\n",
      "Name: 195, dtype: object\n",
      "   स.\\nQ.No                                                   76\n",
      "  /Question    भहा फधक भेटर टोकन के  ऩा               ह ।\\n[A...\n",
      "Name: 76, dtype: object\n",
      "   स.\\nQ.No                                                   35\n",
      "  /Question           सु वधा आधाय, ऩैन काडग औय ऩासऩोटग जैसे भ...\n",
      "Name: 35, dtype: object\n",
      "   स.\\nQ.No                                                   86\n",
      "  /Question    एक भहहरा येरवे कभगचायी     हदन की भातृ  अवकार्...\n",
      "Name: 86, dtype: object\n",
      "   स.\\nQ.No                                                  170\n",
      "  /Question    एरएचफी (LHB) कोच का ऩूणग  ऩ  (अं ेजी  भ )     ...\n",
      "Name: 170, dtype: object\n",
      "   स.\\nQ.No                                                   33\n",
      "  /Question    कॉइस (COIS) का ऩूणग  ऩ (अं ेजी भ )       है./C...\n",
      "Name: 33, dtype: object\n",
      "   स.\\nQ.No                                                   77\n",
      "  /Question     ुऩ A औय B अ धकायी  थभ  ेणी ए                 ...\n",
      "Name: 77, dtype: object\n",
      "   स.\\nQ.No                                                   91\n",
      "  /Question    अ धकतभ           हदनों की औसत वेतन छु  ी (LAP)...\n",
      "Name: 91, dtype: object\n",
      "   स.\\nQ.No                                                  148\n",
      "  /Question    अ  म घटनाओं के   रए  व    ऩहचान सं ा (UID)    ...\n",
      "Name: 148, dtype: object\n"
     ]
    }
   ],
   "source": [
    "import random\n",
    "for i in range(40):\n",
    "    value=random.randint(0,len(df)-1)\n",
    "    print(df.iloc[value])"
   ]
  },
  {
   "cell_type": "code",
   "execution_count": 10,
   "id": "4f980329-ad07-4854-a676-37f9113b0fb0",
   "metadata": {},
   "outputs": [
    {
     "ename": "AttributeError",
     "evalue": "'DataFrame' object has no attribute 'append'",
     "output_type": "error",
     "traceback": [
      "\u001b[1;31m---------------------------------------------------------------------------\u001b[0m",
      "\u001b[1;31mAttributeError\u001b[0m                            Traceback (most recent call last)",
      "\u001b[1;32m~\\AppData\\Local\\Temp\\ipykernel_13172\\512422479.py\u001b[0m in \u001b[0;36m?\u001b[1;34m()\u001b[0m\n\u001b[0;32m     11\u001b[0m \u001b[1;33m\u001b[0m\u001b[0m\n\u001b[0;32m     12\u001b[0m \u001b[1;31m# Generate and select random rows\u001b[0m\u001b[1;33m\u001b[0m\u001b[1;33m\u001b[0m\u001b[0m\n\u001b[0;32m     13\u001b[0m \u001b[1;32mfor\u001b[0m \u001b[0m_\u001b[0m \u001b[1;32min\u001b[0m \u001b[0mrange\u001b[0m\u001b[1;33m(\u001b[0m\u001b[0mnum_rows_to_select\u001b[0m\u001b[1;33m)\u001b[0m\u001b[1;33m:\u001b[0m\u001b[1;33m\u001b[0m\u001b[1;33m\u001b[0m\u001b[0m\n\u001b[0;32m     14\u001b[0m     \u001b[0mrandom_index\u001b[0m \u001b[1;33m=\u001b[0m \u001b[0mrandom\u001b[0m\u001b[1;33m.\u001b[0m\u001b[0mrandint\u001b[0m\u001b[1;33m(\u001b[0m\u001b[1;36m0\u001b[0m\u001b[1;33m,\u001b[0m \u001b[0mlen\u001b[0m\u001b[1;33m(\u001b[0m\u001b[0mdf\u001b[0m\u001b[1;33m)\u001b[0m \u001b[1;33m-\u001b[0m \u001b[1;36m1\u001b[0m\u001b[1;33m)\u001b[0m\u001b[1;33m\u001b[0m\u001b[1;33m\u001b[0m\u001b[0m\n\u001b[1;32m---> 15\u001b[1;33m     \u001b[0mselected_rows_df\u001b[0m \u001b[1;33m=\u001b[0m \u001b[0mselected_rows_df\u001b[0m\u001b[1;33m.\u001b[0m\u001b[0mappend\u001b[0m\u001b[1;33m(\u001b[0m\u001b[0mdf\u001b[0m\u001b[1;33m.\u001b[0m\u001b[0miloc\u001b[0m\u001b[1;33m[\u001b[0m\u001b[0mrandom_index\u001b[0m\u001b[1;33m]\u001b[0m\u001b[1;33m)\u001b[0m\u001b[1;33m\u001b[0m\u001b[1;33m\u001b[0m\u001b[0m\n\u001b[0m\u001b[0;32m     16\u001b[0m \u001b[1;33m\u001b[0m\u001b[0m\n\u001b[0;32m     17\u001b[0m \u001b[1;31m# Reset index of the selected rows DataFrame\u001b[0m\u001b[1;33m\u001b[0m\u001b[1;33m\u001b[0m\u001b[0m\n\u001b[0;32m     18\u001b[0m \u001b[0mselected_rows_df\u001b[0m\u001b[1;33m.\u001b[0m\u001b[0mreset_index\u001b[0m\u001b[1;33m(\u001b[0m\u001b[0mdrop\u001b[0m\u001b[1;33m=\u001b[0m\u001b[1;32mTrue\u001b[0m\u001b[1;33m,\u001b[0m \u001b[0minplace\u001b[0m\u001b[1;33m=\u001b[0m\u001b[1;32mTrue\u001b[0m\u001b[1;33m)\u001b[0m\u001b[1;33m\u001b[0m\u001b[1;33m\u001b[0m\u001b[0m\n",
      "\u001b[1;32mC:\\menv\\Lib\\site-packages\\pandas\\core\\generic.py\u001b[0m in \u001b[0;36m?\u001b[1;34m(self, name)\u001b[0m\n\u001b[0;32m   6200\u001b[0m             \u001b[1;32mand\u001b[0m \u001b[0mname\u001b[0m \u001b[1;32mnot\u001b[0m \u001b[1;32min\u001b[0m \u001b[0mself\u001b[0m\u001b[1;33m.\u001b[0m\u001b[0m_accessors\u001b[0m\u001b[1;33m\u001b[0m\u001b[1;33m\u001b[0m\u001b[0m\n\u001b[0;32m   6201\u001b[0m             \u001b[1;32mand\u001b[0m \u001b[0mself\u001b[0m\u001b[1;33m.\u001b[0m\u001b[0m_info_axis\u001b[0m\u001b[1;33m.\u001b[0m\u001b[0m_can_hold_identifiers_and_holds_name\u001b[0m\u001b[1;33m(\u001b[0m\u001b[0mname\u001b[0m\u001b[1;33m)\u001b[0m\u001b[1;33m\u001b[0m\u001b[1;33m\u001b[0m\u001b[0m\n\u001b[0;32m   6202\u001b[0m         \u001b[1;33m)\u001b[0m\u001b[1;33m:\u001b[0m\u001b[1;33m\u001b[0m\u001b[1;33m\u001b[0m\u001b[0m\n\u001b[0;32m   6203\u001b[0m             \u001b[1;32mreturn\u001b[0m \u001b[0mself\u001b[0m\u001b[1;33m[\u001b[0m\u001b[0mname\u001b[0m\u001b[1;33m]\u001b[0m\u001b[1;33m\u001b[0m\u001b[1;33m\u001b[0m\u001b[0m\n\u001b[1;32m-> 6204\u001b[1;33m         \u001b[1;32mreturn\u001b[0m \u001b[0mobject\u001b[0m\u001b[1;33m.\u001b[0m\u001b[0m__getattribute__\u001b[0m\u001b[1;33m(\u001b[0m\u001b[0mself\u001b[0m\u001b[1;33m,\u001b[0m \u001b[0mname\u001b[0m\u001b[1;33m)\u001b[0m\u001b[1;33m\u001b[0m\u001b[1;33m\u001b[0m\u001b[0m\n\u001b[0m",
      "\u001b[1;31mAttributeError\u001b[0m: 'DataFrame' object has no attribute 'append'"
     ]
    }
   ],
   "source": [
    "import pandas as pd\n",
    "import random\n",
    "\n",
    "df=pd.read_excel(r\"bits.xlsx\")\n",
    "\n",
    "# Number of random rows to select\n",
    "num_rows_to_select = 40\n",
    "\n",
    "# Initialize an empty DataFrame to store selected rows\n",
    "selected_rows_df = pd.DataFrame()\n",
    "\n",
    "# Generate and select random rows\n",
    "for _ in range(num_rows_to_select):\n",
    "    random_index = random.randint(0, len(df) - 1)\n",
    "    selected_rows_df = selected_rows_df.append(df.iloc[random_index])\n",
    "\n",
    "# Reset index of the selected rows DataFrame\n",
    "selected_rows_df.reset_index(drop=True, inplace=True)\n",
    "\n",
    "# Print the selected rows DataFrame\n",
    "print(selected_rows_df)\n"
   ]
  },
  {
   "cell_type": "code",
   "execution_count": 18,
   "id": "adacf73c-3bcf-4a7b-b155-fface99ff229",
   "metadata": {},
   "outputs": [
    {
     "name": "stdout",
     "output_type": "stream",
     "text": [
      "       स.\\nQ.No                                          /Question\n",
      "1           145  कसी अ  म घटना के  दौयान गंबीय/क दामी चोट के   ...\n",
      "2            17  येर  भदद  भ   नन  र खत  भ   से   कसे  रे न-दे ...\n",
      "3           123          पॉभग का उऩमोग छोटी र् ◌ा त अ धयो ऩत कय...\n",
      "4            33  कॉइस (COIS) का ऩूणग  ऩ (अं ेजी भ )       है./C...\n",
      "5            69  महद पाइस रे  ऱे  रसीद का ऩहरा अंक 3 है, तो मह ...\n",
      "6             7           साझा संगठना भक भू ों का उ े  है।\\n[A]...\n",
      "7           161  अ  म घटनाओं भ  भुआवजे का दावा थवीकाय  कमा जाना...\n",
      "8           157  ऩु रस  घटना  के              हदनों के   बीतय अ...\n",
      "9            28  ऩीओएस  (POS)  का  ऩूणग  ऩ (अं ेजी भ )         ...\n",
      "10           79  आ  तो सहहत सु वधा ऩास भ               सदथमों क...\n",
      "11           92  एरएऩी   नत  भाह        हदन की दय से येरवे कभगच...\n",
      "12           84  रे  ऱे  कमटचारी एक कै  ऱ  डर ि◌ट   म     टदन क...\n",
      "13           28  ऩीओएस  (POS)  का  ऩूणग  ऩ (अं ेजी भ )         ...\n",
      "14          118  एभएसीऩीएस  (MACPS)                वेतन  आमोग  ...\n",
      "15          163  येरवे दावा  ामा धकयण की एक ऩूणग ऩीठ भ         ...\n",
      "16           34       ऐऩ बायतीम येरवे भोफाइर ए ऱीके  न  के   रए...\n",
      "17           12  कथटभय  के  मय  ( ाहक  सेवा) का  अथग           ...\n",
      "18          114  ऺ◌े  ीम थतय ऩय ऩीएनएभ फै ठक के   स चव         ...\n",
      "19           51  टीटीई ऐऩ  परहार के  वर             पोन के   रए...\n",
      "20          110  थथामी वाताग त  (PNM)            हटमय सथटभ भ  क...\n",
      "21          101  आयो ऩत कभगचायी की भृ ु ऩय अनुर् ◌ासना भक कामगव...\n",
      "22          167  येरवे  भ ,         आऩदा  फधन ऩय नीनत ननभागण के...\n",
      "23           92  एरएऩी   नत  भाह        हदन की दय से येरवे कभगच...\n",
      "24           77   ुऩ A औय B अ धकायी  थभ  ेणी ए                 ...\n",
      "25          106  आयएरसी(RLC)  का  ऩूणग   ऩ  (अं ेजी  भ )       ...\n",
      "26           54  टीटीई         िवक ऩों का  उऩयोग  करके    यूटीए...\n",
      "27          198  ऻ◌ान- वऻ◌ान,  व ध, सांथकृ  नतक औय  ाम से  संफं...\n",
      "28          170  एरएचफी (LHB) कोच का ऩूणग  ऩ  (अं ेजी  भ )     ...\n",
      "29           13            बायतीम  येरवे  के     व ब   वबागों क...\n",
      "30          112  ऩीएनएभ (PNM) का गठन         िवग भ   आ.\\n[A] 19...\n",
      "31           41  मूटीएस भोफाइर ऐऩके   भा भसे फु क  कमागमा ऩेऩय ...\n",
      "32          167  येरवे  भ ,         आऩदा  फधन ऩय नीनत ननभागण के...\n",
      "33          165  येरवे दावा अ धकयण के   आदे र् के   व   अऩीर, आ...\n",
      "34            9              उन  स ांतो,ं  भू ों औय  व ासों को ...\n",
      "35          103                को येरवे कभगचायी के   योजगाय को ...\n",
      "36            5  कु  छ काभ अके  रे  नहीं कए जा सकते ह  औय महद आ...\n",
      "37           24  एनआईसी  (NIC)  का  ऩूणग  ऩ (अं ेजी भ )        ...\n",
      "38          147  येरवे दुघगटनाएं औय अ  म घटनाएं  (ऺनतऩूनत)ग  सं...\n",
      "39           65  पाइस रे  ऱे  रसीद भ                    ऩ े  हो...\n",
      "40            8            एक ऐसा कायक है जो नैनतक औय अनैनतक  म...\n"
     ]
    }
   ],
   "source": [
    "import pandas as pd\n",
    "import random\n",
    "\n",
    "# Load the Excel file into a DataFrame\n",
    "df = pd.read_excel(r\"bits.xlsx\")\n",
    "\n",
    "# Number of random rows to select\n",
    "num_rows_to_select = 40\n",
    "\n",
    "# Initialize an empty list to store selected rows\n",
    "selected_rows = []\n",
    "\n",
    "# Generate and select random rows\n",
    "for _ in range(num_rows_to_select):\n",
    "    random_index = random.randint(0, len(df) - 1)\n",
    "    selected_rows.append(df.iloc[random_index])\n",
    "\n",
    "# Create a DataFrame from the list of selected rows\n",
    "selected_rows_df = pd.DataFrame(selected_rows)\n",
    "\n",
    "# Reset index of the selected rows DataFrame\n",
    "selected_rows_df.index=range(1,len(selected_rows_df)+1)\n",
    "\n",
    "# Print the selected rows DataFrame\n",
    "print(selected_rows_df)\n"
   ]
  },
  {
   "cell_type": "code",
   "execution_count": 2,
   "id": "ef2b7799-d35b-48b3-9bcd-a85217dd15bb",
   "metadata": {},
   "outputs": [
    {
     "name": "stdout",
     "output_type": "stream",
     "text": [
      "       स.\\nQ.No                                          /Question\n",
      "1           104             वह य थटय है  जो येरवे कभगचारयमों की...\n",
      "2           177  जफ बी चरती गाडी भ  चोयी का ऩता चरता है, तो गाड...\n",
      "3            51  टीटीई ऐऩ  परहार के  वर             पोन के   रए...\n",
      "4            28  ऩीओएस  (POS)  का  ऩूणग  ऩ (अं ेजी भ )         ...\n",
      "5           160  अ  म  घटनाओं  भ          भंडर की जांच रयऩोटग क...\n",
      "6            20  दावा वाऩसी औय आयसीटी का वेफ ऩैके  ज           ...\n",
      "7           181  बायत के  सं वधान के   कस अनु े द भ  संघ की याज...\n",
      "8           195  भौ रक कथा / कहानी सं ह एवं उऩ ास रे खन को ऩुयथ...\n",
      "9            78  येरवे  सभूह \" C\" औय  ऩूवगवती  सभूह \"    D\" भ  ...\n",
      "10           72  ई टी-आयआय का ऩूणग  ऩ (अं ेजी भ )       है./eT-...\n",
      "11           65  पाइस रे  ऱे  रसीद भ                    ऩ े  हो...\n",
      "12          153  फर के  जांच अ धकायी को अ  म घटना के  फाये भ  ज...\n",
      "13           50  मूटीएस  मोबाइऱ  ऐऩ के    भा भ  से          तयह...\n",
      "14           16            भॉड्मूर  कोच, येक  औय  मा ी  रोको  क...\n",
      "15           97  एक  येरवे  कभगचायी  को  औसत  वेतन  ऩय  छु   ी ...\n",
      "16          145  कसी अ  म घटना के  दौयान गंबीय/क दामी चोट के   ...\n",
      "17          124          पॉभग का उऩमोग फडी र् ◌ा त अ धयो ऩत कयन...\n",
      "18          197  याजबाि◌◌ा हहंदी भ  उ ृ    कामग कयने के   रए भह...\n",
      "19           56  महद मा ी  कसी तकनीकी खयाफी के   कायण यूटीएस मो...\n",
      "20           65  पाइस रे  ऱे  रसीद भ                    ऩ े  हो...\n",
      "21           33  कॉइस (COIS) का ऩूणग  ऩ (अं ेजी भ )       है./C...\n",
      "22           92  एरएऩी   नत  भाह        हदन की दय से येरवे कभगच...\n",
      "23           50  मूटीएस  मोबाइऱ  ऐऩ के    भा भ  से          तयह...\n",
      "24          110  थथामी वाताग त  (PNM)            हटमय सथटभ भ  क...\n",
      "25          175  चरती गाडी भ  चोयी का फमान (यननग ट\" ेन थे  थटेट...\n",
      "26          191  स वधान की 8वी अनुसूची भ  अफ तक  कतनी बाि◌◌ाओ क...\n",
      "27           84  रे  ऱे  कमटचारी एक कै  ऱ  डर ि◌ट   म     टदन क...\n",
      "28          112  ऩीएनएभ (PNM) का गठन         िवग भ   आ.\\n[A] 19...\n",
      "29          121  ननरफन के   रए  मु  भानक  ऩ  स ा               ...\n",
      "30          160  अ  म  घटनाओं  भ          भंडर की जांच रयऩोटग क...\n",
      "31           17  येर  भदद  भ   नन  र खत  भ   से   कसे  रे न-दे ...\n",
      "32           37            ऐऩ  को चग  औय भार मातामात  के     रए...\n",
      "33          138  गाडी दुघगटना भ   भ ु  के   भाभरे  भ    नत मा ी...\n",
      "34          167  येरवे  भ ,         आऩदा  फधन ऩय नीनत ननभागण के...\n",
      "35           58  बीभ (BHIM) का ऩूणग  ऩ (अं ेजी भ )           है...\n",
      "36            6  कसी संगठन भ  सबी कभगचारयमों के   मवहाय को ननदे...\n",
      "37           70  ई-आयडी(e-RD)का ऩूणग  ऩ (अं ेजी भ )        है./...\n",
      "38           22  वेफ एड\" ेस  https://scr.eoffice.railnet.gov.in...\n",
      "39          139  गाडी  दुघगटनाओं  के    कायण  थथाई  अ  ता  के  ...\n",
      "40          117  एभएसीऩीएस (MACPS) का ऩूणग  ऩ  (अं ेजी  भ )    ...\n"
     ]
    }
   ],
   "source": [
    "import pandas as pd\n",
    "import random\n",
    "\n",
    "# Load the Excel file into a DataFrame\n",
    "df = pd.read_excel(r\"bits.xlsx\")\n",
    "\n",
    "# Number of random rows to select\n",
    "\n",
    "\n",
    "# Initialize an empty list to store selected rows\n",
    "selected_rows = []\n",
    "\n",
    "# Generate and select random rows\n",
    "for i in range(40):\n",
    "    value = random.randint(0, len(df) - 1)\n",
    "    selected_rows.append(df.iloc[value])\n",
    "\n",
    "# Create a DataFrame from the list of selected rows\n",
    "selected_rows_df = pd.DataFrame(selected_rows)\n",
    "\n",
    "# Reset index of the selected rows DataFrame\n",
    "selected_rows_df.index=range(1,len(selected_rows_df)+1)\n",
    "\n",
    "# Print the selected rows DataFrame\n",
    "print(selected_rows_df)\n"
   ]
  },
  {
   "cell_type": "code",
   "execution_count": null,
   "id": "aad4602f-24e4-48ee-abb7-2ec1bd644006",
   "metadata": {},
   "outputs": [],
   "source": []
  }
 ],
 "metadata": {
  "kernelspec": {
   "display_name": "Python 3 (ipykernel)",
   "language": "python",
   "name": "python3"
  },
  "language_info": {
   "codemirror_mode": {
    "name": "ipython",
    "version": 3
   },
   "file_extension": ".py",
   "mimetype": "text/x-python",
   "name": "python",
   "nbconvert_exporter": "python",
   "pygments_lexer": "ipython3",
   "version": "3.12.0"
  }
 },
 "nbformat": 4,
 "nbformat_minor": 5
}
