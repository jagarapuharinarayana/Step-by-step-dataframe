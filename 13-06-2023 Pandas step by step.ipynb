{
 "cells": [
  {
   "cell_type": "code",
   "execution_count": 197,
   "id": "9c325aaa",
   "metadata": {},
   "outputs": [],
   "source": [
    "#import random\n",
    "import random"
   ]
  },
  {
   "cell_type": "code",
   "execution_count": 198,
   "id": "ea614019",
   "metadata": {},
   "outputs": [],
   "source": [
    "#assign 10 values between 20,45\n",
    "a=[]\n",
    "for i in range(10):\n",
    "    value= random.randint(20,45)\n",
    "    a.append(value)"
   ]
  },
  {
   "cell_type": "code",
   "execution_count": 199,
   "id": "2a3ee437",
   "metadata": {},
   "outputs": [
    {
     "data": {
      "text/plain": [
       "[39, 33, 23, 28, 28, 43, 27, 35, 41, 20]"
      ]
     },
     "execution_count": 199,
     "metadata": {},
     "output_type": "execute_result"
    }
   ],
   "source": [
    "a"
   ]
  },
  {
   "cell_type": "code",
   "execution_count": 341,
   "id": "a1271f98",
   "metadata": {},
   "outputs": [],
   "source": [
    "#list to string convertion\n",
    "b=[\"phani\",\"kumar\",\"hari naryana\",\"nikhil kumar\"]\n",
    "string=\" \".join(b)\n"
   ]
  },
  {
   "cell_type": "code",
   "execution_count": 342,
   "id": "3095b837",
   "metadata": {},
   "outputs": [
    {
     "data": {
      "text/plain": [
       "['phani', 'kumar', 'hari naryana', 'nikhil kumar']"
      ]
     },
     "execution_count": 342,
     "metadata": {},
     "output_type": "execute_result"
    }
   ],
   "source": [
    "b"
   ]
  },
  {
   "cell_type": "code",
   "execution_count": 318,
   "id": "54dd18e6",
   "metadata": {},
   "outputs": [],
   "source": [
    "Data = []\n",
    "for i in b:\n",
    "    Data.append(i.split())"
   ]
  },
  {
   "cell_type": "code",
   "execution_count": 336,
   "id": "908604eb",
   "metadata": {},
   "outputs": [
    {
     "data": {
      "text/plain": [
       "[['phani'], ['kumar'], ['hari', 'naryana'], ['nikhil', 'kumar']]"
      ]
     },
     "execution_count": 336,
     "metadata": {},
     "output_type": "execute_result"
    }
   ],
   "source": [
    "Data"
   ]
  },
  {
   "cell_type": "code",
   "execution_count": 333,
   "id": "36c2ee72",
   "metadata": {},
   "outputs": [],
   "source": [
    "DD = []\n",
    "for i in Data:\n",
    "    if len(i)>=2:\n",
    "        for j in i:\n",
    "            DD.append(j)\n",
    "    else:\n",
    "        DD.append(i[0])\n",
    "        \n"
   ]
  },
  {
   "cell_type": "code",
   "execution_count": 334,
   "id": "0fd95c47",
   "metadata": {},
   "outputs": [
    {
     "data": {
      "text/plain": [
       "['phani', 'kumar', 'hari', 'naryana', 'nikhil', 'kumar']"
      ]
     },
     "execution_count": 334,
     "metadata": {},
     "output_type": "execute_result"
    }
   ],
   "source": [
    "DD"
   ]
  },
  {
   "cell_type": "code",
   "execution_count": 337,
   "id": "c6230763",
   "metadata": {},
   "outputs": [
    {
     "data": {
      "text/plain": [
       "['phani', 'kumar', 'hari', 'naryana', 'nikhil', 'kumar']"
      ]
     },
     "execution_count": 337,
     "metadata": {},
     "output_type": "execute_result"
    }
   ],
   "source": [
    "[item for sublist in Data for item in sublist]"
   ]
  },
  {
   "cell_type": "code",
   "execution_count": null,
   "id": "62f6fa1e",
   "metadata": {},
   "outputs": [],
   "source": []
  },
  {
   "cell_type": "code",
   "execution_count": null,
   "id": "3c820a6e",
   "metadata": {},
   "outputs": [],
   "source": []
  },
  {
   "cell_type": "code",
   "execution_count": null,
   "id": "1b95216a",
   "metadata": {},
   "outputs": [],
   "source": []
  },
  {
   "cell_type": "code",
   "execution_count": 347,
   "id": "3a0538de",
   "metadata": {},
   "outputs": [],
   "source": [
    "# LIST TO STRING AND JOINT AND SPLIT A NEW LIST\n",
    "b=[\"phani\",\"kumar\",\"hari naryana\",\"nikhil kumar\"]\n",
    "string=\" \".join(b)\n",
    "b=[]\n",
    "b=string.split()\n",
    "    \n",
    "    "
   ]
  },
  {
   "cell_type": "code",
   "execution_count": 348,
   "id": "3ed310e6",
   "metadata": {},
   "outputs": [
    {
     "data": {
      "text/plain": [
       "['phani', 'kumar', 'hari', 'naryana', 'nikhil', 'kumar']"
      ]
     },
     "execution_count": 348,
     "metadata": {},
     "output_type": "execute_result"
    }
   ],
   "source": [
    "b"
   ]
  },
  {
   "cell_type": "code",
   "execution_count": 203,
   "id": "83c721cd",
   "metadata": {},
   "outputs": [
    {
     "data": {
      "text/plain": [
       "[39, 33, 23, 28, 28, 43, 27, 35, 41, 20]"
      ]
     },
     "execution_count": 203,
     "metadata": {},
     "output_type": "execute_result"
    }
   ],
   "source": [
    "a"
   ]
  },
  {
   "cell_type": "code",
   "execution_count": 340,
   "id": "51e67821",
   "metadata": {},
   "outputs": [
    {
     "data": {
      "text/plain": [
       "<function str.split(sep=None, maxsplit=-1)>"
      ]
     },
     "execution_count": 340,
     "metadata": {},
     "output_type": "execute_result"
    }
   ],
   "source": [
    "b"
   ]
  },
  {
   "cell_type": "code",
   "execution_count": 205,
   "id": "c94f2e1a",
   "metadata": {},
   "outputs": [],
   "source": [
    "import pandas as pd"
   ]
  },
  {
   "cell_type": "code",
   "execution_count": 206,
   "id": "23cae2bf",
   "metadata": {},
   "outputs": [],
   "source": [
    "#COMBINE TWO COLUMNS IN A DATAFRAME\n",
    "df=pd.DataFrame(zip(a,b))"
   ]
  },
  {
   "cell_type": "code",
   "execution_count": 207,
   "id": "6575d076",
   "metadata": {},
   "outputs": [
    {
     "data": {
      "text/plain": [
       "RangeIndex(start=0, stop=2, step=1)"
      ]
     },
     "execution_count": 207,
     "metadata": {},
     "output_type": "execute_result"
    }
   ],
   "source": [
    "df.columns"
   ]
  },
  {
   "cell_type": "code",
   "execution_count": 208,
   "id": "a302af2e",
   "metadata": {},
   "outputs": [
    {
     "data": {
      "text/plain": [
       "(6, 2)"
      ]
     },
     "execution_count": 208,
     "metadata": {},
     "output_type": "execute_result"
    }
   ],
   "source": [
    "df.shape"
   ]
  },
  {
   "cell_type": "code",
   "execution_count": 209,
   "id": "afb9338f",
   "metadata": {},
   "outputs": [
    {
     "name": "stdout",
     "output_type": "stream",
     "text": [
      "<class 'pandas.core.frame.DataFrame'>\n",
      "RangeIndex: 6 entries, 0 to 5\n",
      "Data columns (total 2 columns):\n",
      " #   Column  Non-Null Count  Dtype \n",
      "---  ------  --------------  ----- \n",
      " 0   0       6 non-null      int64 \n",
      " 1   1       6 non-null      object\n",
      "dtypes: int64(1), object(1)\n",
      "memory usage: 224.0+ bytes\n"
     ]
    }
   ],
   "source": [
    "df.info()"
   ]
  },
  {
   "cell_type": "code",
   "execution_count": 210,
   "id": "eb5b19ff",
   "metadata": {},
   "outputs": [],
   "source": [
    "df.columns='age','names'"
   ]
  },
  {
   "cell_type": "code",
   "execution_count": 211,
   "id": "51682008",
   "metadata": {},
   "outputs": [
    {
     "data": {
      "text/html": [
       "<div>\n",
       "<style scoped>\n",
       "    .dataframe tbody tr th:only-of-type {\n",
       "        vertical-align: middle;\n",
       "    }\n",
       "\n",
       "    .dataframe tbody tr th {\n",
       "        vertical-align: top;\n",
       "    }\n",
       "\n",
       "    .dataframe thead th {\n",
       "        text-align: right;\n",
       "    }\n",
       "</style>\n",
       "<table border=\"1\" class=\"dataframe\">\n",
       "  <thead>\n",
       "    <tr style=\"text-align: right;\">\n",
       "      <th></th>\n",
       "      <th>age</th>\n",
       "      <th>names</th>\n",
       "    </tr>\n",
       "  </thead>\n",
       "  <tbody>\n",
       "    <tr>\n",
       "      <th>0</th>\n",
       "      <td>39</td>\n",
       "      <td>phani</td>\n",
       "    </tr>\n",
       "    <tr>\n",
       "      <th>1</th>\n",
       "      <td>33</td>\n",
       "      <td>kumar</td>\n",
       "    </tr>\n",
       "    <tr>\n",
       "      <th>2</th>\n",
       "      <td>23</td>\n",
       "      <td>hari</td>\n",
       "    </tr>\n",
       "    <tr>\n",
       "      <th>3</th>\n",
       "      <td>28</td>\n",
       "      <td>naryana</td>\n",
       "    </tr>\n",
       "    <tr>\n",
       "      <th>4</th>\n",
       "      <td>28</td>\n",
       "      <td>nikhil</td>\n",
       "    </tr>\n",
       "    <tr>\n",
       "      <th>5</th>\n",
       "      <td>43</td>\n",
       "      <td>kumar</td>\n",
       "    </tr>\n",
       "  </tbody>\n",
       "</table>\n",
       "</div>"
      ],
      "text/plain": [
       "   age    names\n",
       "0   39    phani\n",
       "1   33    kumar\n",
       "2   23     hari\n",
       "3   28  naryana\n",
       "4   28   nikhil\n",
       "5   43    kumar"
      ]
     },
     "execution_count": 211,
     "metadata": {},
     "output_type": "execute_result"
    }
   ],
   "source": [
    "df"
   ]
  },
  {
   "cell_type": "code",
   "execution_count": 216,
   "id": "58fe87a6",
   "metadata": {},
   "outputs": [],
   "source": [
    "#replcing the  string \n",
    "df['names'] = df[\"names\"].replace(\"naryana\",\"narayana\")"
   ]
  },
  {
   "cell_type": "code",
   "execution_count": 217,
   "id": "32860261",
   "metadata": {},
   "outputs": [
    {
     "data": {
      "text/html": [
       "<div>\n",
       "<style scoped>\n",
       "    .dataframe tbody tr th:only-of-type {\n",
       "        vertical-align: middle;\n",
       "    }\n",
       "\n",
       "    .dataframe tbody tr th {\n",
       "        vertical-align: top;\n",
       "    }\n",
       "\n",
       "    .dataframe thead th {\n",
       "        text-align: right;\n",
       "    }\n",
       "</style>\n",
       "<table border=\"1\" class=\"dataframe\">\n",
       "  <thead>\n",
       "    <tr style=\"text-align: right;\">\n",
       "      <th></th>\n",
       "      <th>age</th>\n",
       "      <th>names</th>\n",
       "    </tr>\n",
       "  </thead>\n",
       "  <tbody>\n",
       "    <tr>\n",
       "      <th>0</th>\n",
       "      <td>39</td>\n",
       "      <td>phani</td>\n",
       "    </tr>\n",
       "    <tr>\n",
       "      <th>1</th>\n",
       "      <td>33</td>\n",
       "      <td>kumar</td>\n",
       "    </tr>\n",
       "    <tr>\n",
       "      <th>2</th>\n",
       "      <td>23</td>\n",
       "      <td>hari</td>\n",
       "    </tr>\n",
       "    <tr>\n",
       "      <th>3</th>\n",
       "      <td>28</td>\n",
       "      <td>narayana</td>\n",
       "    </tr>\n",
       "    <tr>\n",
       "      <th>4</th>\n",
       "      <td>28</td>\n",
       "      <td>nikhil</td>\n",
       "    </tr>\n",
       "    <tr>\n",
       "      <th>5</th>\n",
       "      <td>43</td>\n",
       "      <td>kumar</td>\n",
       "    </tr>\n",
       "  </tbody>\n",
       "</table>\n",
       "</div>"
      ],
      "text/plain": [
       "   age     names\n",
       "0   39     phani\n",
       "1   33     kumar\n",
       "2   23      hari\n",
       "3   28  narayana\n",
       "4   28    nikhil\n",
       "5   43     kumar"
      ]
     },
     "execution_count": 217,
     "metadata": {},
     "output_type": "execute_result"
    }
   ],
   "source": [
    "df"
   ]
  },
  {
   "cell_type": "code",
   "execution_count": null,
   "id": "5a9bee3d",
   "metadata": {},
   "outputs": [],
   "source": []
  },
  {
   "cell_type": "code",
   "execution_count": 176,
   "id": "ecce6237",
   "metadata": {},
   "outputs": [],
   "source": [
    "names=[]\n",
    "for i in df['names']:\n",
    "    if i=='naryana':\n",
    "        i='narayana'\n",
    "        names.append(i)"
   ]
  },
  {
   "cell_type": "code",
   "execution_count": 177,
   "id": "1e645360",
   "metadata": {},
   "outputs": [
    {
     "data": {
      "text/html": [
       "<div>\n",
       "<style scoped>\n",
       "    .dataframe tbody tr th:only-of-type {\n",
       "        vertical-align: middle;\n",
       "    }\n",
       "\n",
       "    .dataframe tbody tr th {\n",
       "        vertical-align: top;\n",
       "    }\n",
       "\n",
       "    .dataframe thead th {\n",
       "        text-align: right;\n",
       "    }\n",
       "</style>\n",
       "<table border=\"1\" class=\"dataframe\">\n",
       "  <thead>\n",
       "    <tr style=\"text-align: right;\">\n",
       "      <th></th>\n",
       "      <th>age</th>\n",
       "      <th>names</th>\n",
       "    </tr>\n",
       "  </thead>\n",
       "  <tbody>\n",
       "    <tr>\n",
       "      <th>0</th>\n",
       "      <td>45</td>\n",
       "      <td>phani</td>\n",
       "    </tr>\n",
       "    <tr>\n",
       "      <th>1</th>\n",
       "      <td>37</td>\n",
       "      <td>kumar</td>\n",
       "    </tr>\n",
       "    <tr>\n",
       "      <th>2</th>\n",
       "      <td>22</td>\n",
       "      <td>hari</td>\n",
       "    </tr>\n",
       "    <tr>\n",
       "      <th>3</th>\n",
       "      <td>44</td>\n",
       "      <td>naryana</td>\n",
       "    </tr>\n",
       "    <tr>\n",
       "      <th>4</th>\n",
       "      <td>43</td>\n",
       "      <td>nikhil</td>\n",
       "    </tr>\n",
       "    <tr>\n",
       "      <th>5</th>\n",
       "      <td>40</td>\n",
       "      <td>kumar</td>\n",
       "    </tr>\n",
       "  </tbody>\n",
       "</table>\n",
       "</div>"
      ],
      "text/plain": [
       "   age    names\n",
       "0   45    phani\n",
       "1   37    kumar\n",
       "2   22     hari\n",
       "3   44  naryana\n",
       "4   43   nikhil\n",
       "5   40    kumar"
      ]
     },
     "execution_count": 177,
     "metadata": {},
     "output_type": "execute_result"
    }
   ],
   "source": [
    "df"
   ]
  },
  {
   "cell_type": "code",
   "execution_count": 178,
   "id": "30de90d3",
   "metadata": {},
   "outputs": [],
   "source": [
    "# in a dataframe change a cell value using at (df.at[])\n",
    "for index,rows in df.iterrows():\n",
    "    if rows['names']==\"naryana\":\n",
    "        df.at[index,'names']=\"narayana\""
   ]
  },
  {
   "cell_type": "code",
   "execution_count": 179,
   "id": "3b75ebb3",
   "metadata": {},
   "outputs": [
    {
     "data": {
      "text/html": [
       "<div>\n",
       "<style scoped>\n",
       "    .dataframe tbody tr th:only-of-type {\n",
       "        vertical-align: middle;\n",
       "    }\n",
       "\n",
       "    .dataframe tbody tr th {\n",
       "        vertical-align: top;\n",
       "    }\n",
       "\n",
       "    .dataframe thead th {\n",
       "        text-align: right;\n",
       "    }\n",
       "</style>\n",
       "<table border=\"1\" class=\"dataframe\">\n",
       "  <thead>\n",
       "    <tr style=\"text-align: right;\">\n",
       "      <th></th>\n",
       "      <th>age</th>\n",
       "      <th>names</th>\n",
       "    </tr>\n",
       "  </thead>\n",
       "  <tbody>\n",
       "    <tr>\n",
       "      <th>0</th>\n",
       "      <td>45</td>\n",
       "      <td>phani</td>\n",
       "    </tr>\n",
       "    <tr>\n",
       "      <th>1</th>\n",
       "      <td>37</td>\n",
       "      <td>kumar</td>\n",
       "    </tr>\n",
       "    <tr>\n",
       "      <th>2</th>\n",
       "      <td>22</td>\n",
       "      <td>hari</td>\n",
       "    </tr>\n",
       "    <tr>\n",
       "      <th>3</th>\n",
       "      <td>44</td>\n",
       "      <td>narayana</td>\n",
       "    </tr>\n",
       "    <tr>\n",
       "      <th>4</th>\n",
       "      <td>43</td>\n",
       "      <td>nikhil</td>\n",
       "    </tr>\n",
       "    <tr>\n",
       "      <th>5</th>\n",
       "      <td>40</td>\n",
       "      <td>kumar</td>\n",
       "    </tr>\n",
       "  </tbody>\n",
       "</table>\n",
       "</div>"
      ],
      "text/plain": [
       "   age     names\n",
       "0   45     phani\n",
       "1   37     kumar\n",
       "2   22      hari\n",
       "3   44  narayana\n",
       "4   43    nikhil\n",
       "5   40     kumar"
      ]
     },
     "execution_count": 179,
     "metadata": {},
     "output_type": "execute_result"
    }
   ],
   "source": [
    "df"
   ]
  },
  {
   "cell_type": "code",
   "execution_count": 180,
   "id": "d38cb083",
   "metadata": {},
   "outputs": [],
   "source": [
    "salary=[]\n",
    "for i in range(6):\n",
    "    sal=random.randint(20000,50000)\n",
    "    salary.append(sal)"
   ]
  },
  {
   "cell_type": "code",
   "execution_count": 181,
   "id": "bc64bc2b",
   "metadata": {},
   "outputs": [
    {
     "data": {
      "text/plain": [
       "[36530, 34323, 38187, 25546, 25080, 36633]"
      ]
     },
     "execution_count": 181,
     "metadata": {},
     "output_type": "execute_result"
    }
   ],
   "source": [
    "salary"
   ]
  },
  {
   "cell_type": "code",
   "execution_count": 182,
   "id": "bb14a5c7",
   "metadata": {},
   "outputs": [
    {
     "data": {
      "text/plain": [
       "list"
      ]
     },
     "execution_count": 182,
     "metadata": {},
     "output_type": "execute_result"
    }
   ],
   "source": [
    "type(salary)"
   ]
  },
  {
   "cell_type": "code",
   "execution_count": 183,
   "id": "2835cee3",
   "metadata": {},
   "outputs": [],
   "source": [
    "df2=pd.DataFrame(salary)"
   ]
  },
  {
   "cell_type": "code",
   "execution_count": 184,
   "id": "bbfafb7a",
   "metadata": {},
   "outputs": [
    {
     "data": {
      "text/html": [
       "<div>\n",
       "<style scoped>\n",
       "    .dataframe tbody tr th:only-of-type {\n",
       "        vertical-align: middle;\n",
       "    }\n",
       "\n",
       "    .dataframe tbody tr th {\n",
       "        vertical-align: top;\n",
       "    }\n",
       "\n",
       "    .dataframe thead th {\n",
       "        text-align: right;\n",
       "    }\n",
       "</style>\n",
       "<table border=\"1\" class=\"dataframe\">\n",
       "  <thead>\n",
       "    <tr style=\"text-align: right;\">\n",
       "      <th></th>\n",
       "      <th>0</th>\n",
       "    </tr>\n",
       "  </thead>\n",
       "  <tbody>\n",
       "    <tr>\n",
       "      <th>0</th>\n",
       "      <td>36530</td>\n",
       "    </tr>\n",
       "    <tr>\n",
       "      <th>1</th>\n",
       "      <td>34323</td>\n",
       "    </tr>\n",
       "    <tr>\n",
       "      <th>2</th>\n",
       "      <td>38187</td>\n",
       "    </tr>\n",
       "    <tr>\n",
       "      <th>3</th>\n",
       "      <td>25546</td>\n",
       "    </tr>\n",
       "    <tr>\n",
       "      <th>4</th>\n",
       "      <td>25080</td>\n",
       "    </tr>\n",
       "    <tr>\n",
       "      <th>5</th>\n",
       "      <td>36633</td>\n",
       "    </tr>\n",
       "  </tbody>\n",
       "</table>\n",
       "</div>"
      ],
      "text/plain": [
       "       0\n",
       "0  36530\n",
       "1  34323\n",
       "2  38187\n",
       "3  25546\n",
       "4  25080\n",
       "5  36633"
      ]
     },
     "execution_count": 184,
     "metadata": {},
     "output_type": "execute_result"
    }
   ],
   "source": [
    "df2"
   ]
  },
  {
   "cell_type": "code",
   "execution_count": 185,
   "id": "41bc1e9b",
   "metadata": {},
   "outputs": [
    {
     "data": {
      "text/html": [
       "<div>\n",
       "<style scoped>\n",
       "    .dataframe tbody tr th:only-of-type {\n",
       "        vertical-align: middle;\n",
       "    }\n",
       "\n",
       "    .dataframe tbody tr th {\n",
       "        vertical-align: top;\n",
       "    }\n",
       "\n",
       "    .dataframe thead th {\n",
       "        text-align: right;\n",
       "    }\n",
       "</style>\n",
       "<table border=\"1\" class=\"dataframe\">\n",
       "  <thead>\n",
       "    <tr style=\"text-align: right;\">\n",
       "      <th></th>\n",
       "      <th>age</th>\n",
       "      <th>names</th>\n",
       "    </tr>\n",
       "  </thead>\n",
       "  <tbody>\n",
       "    <tr>\n",
       "      <th>0</th>\n",
       "      <td>45</td>\n",
       "      <td>phani</td>\n",
       "    </tr>\n",
       "    <tr>\n",
       "      <th>1</th>\n",
       "      <td>37</td>\n",
       "      <td>kumar</td>\n",
       "    </tr>\n",
       "    <tr>\n",
       "      <th>2</th>\n",
       "      <td>22</td>\n",
       "      <td>hari</td>\n",
       "    </tr>\n",
       "    <tr>\n",
       "      <th>3</th>\n",
       "      <td>44</td>\n",
       "      <td>narayana</td>\n",
       "    </tr>\n",
       "    <tr>\n",
       "      <th>4</th>\n",
       "      <td>43</td>\n",
       "      <td>nikhil</td>\n",
       "    </tr>\n",
       "    <tr>\n",
       "      <th>5</th>\n",
       "      <td>40</td>\n",
       "      <td>kumar</td>\n",
       "    </tr>\n",
       "  </tbody>\n",
       "</table>\n",
       "</div>"
      ],
      "text/plain": [
       "   age     names\n",
       "0   45     phani\n",
       "1   37     kumar\n",
       "2   22      hari\n",
       "3   44  narayana\n",
       "4   43    nikhil\n",
       "5   40     kumar"
      ]
     },
     "execution_count": 185,
     "metadata": {},
     "output_type": "execute_result"
    }
   ],
   "source": [
    "df"
   ]
  },
  {
   "cell_type": "code",
   "execution_count": 186,
   "id": "eac946c9",
   "metadata": {},
   "outputs": [],
   "source": [
    "#new column adding the existing the dataframe\n",
    "df['Salary'] = salary"
   ]
  },
  {
   "cell_type": "code",
   "execution_count": 187,
   "id": "10dd9121",
   "metadata": {},
   "outputs": [
    {
     "data": {
      "text/html": [
       "<div>\n",
       "<style scoped>\n",
       "    .dataframe tbody tr th:only-of-type {\n",
       "        vertical-align: middle;\n",
       "    }\n",
       "\n",
       "    .dataframe tbody tr th {\n",
       "        vertical-align: top;\n",
       "    }\n",
       "\n",
       "    .dataframe thead th {\n",
       "        text-align: right;\n",
       "    }\n",
       "</style>\n",
       "<table border=\"1\" class=\"dataframe\">\n",
       "  <thead>\n",
       "    <tr style=\"text-align: right;\">\n",
       "      <th></th>\n",
       "      <th>age</th>\n",
       "      <th>names</th>\n",
       "      <th>Salary</th>\n",
       "    </tr>\n",
       "  </thead>\n",
       "  <tbody>\n",
       "    <tr>\n",
       "      <th>0</th>\n",
       "      <td>45</td>\n",
       "      <td>phani</td>\n",
       "      <td>36530</td>\n",
       "    </tr>\n",
       "    <tr>\n",
       "      <th>1</th>\n",
       "      <td>37</td>\n",
       "      <td>kumar</td>\n",
       "      <td>34323</td>\n",
       "    </tr>\n",
       "    <tr>\n",
       "      <th>2</th>\n",
       "      <td>22</td>\n",
       "      <td>hari</td>\n",
       "      <td>38187</td>\n",
       "    </tr>\n",
       "    <tr>\n",
       "      <th>3</th>\n",
       "      <td>44</td>\n",
       "      <td>narayana</td>\n",
       "      <td>25546</td>\n",
       "    </tr>\n",
       "    <tr>\n",
       "      <th>4</th>\n",
       "      <td>43</td>\n",
       "      <td>nikhil</td>\n",
       "      <td>25080</td>\n",
       "    </tr>\n",
       "    <tr>\n",
       "      <th>5</th>\n",
       "      <td>40</td>\n",
       "      <td>kumar</td>\n",
       "      <td>36633</td>\n",
       "    </tr>\n",
       "  </tbody>\n",
       "</table>\n",
       "</div>"
      ],
      "text/plain": [
       "   age     names  Salary\n",
       "0   45     phani   36530\n",
       "1   37     kumar   34323\n",
       "2   22      hari   38187\n",
       "3   44  narayana   25546\n",
       "4   43    nikhil   25080\n",
       "5   40     kumar   36633"
      ]
     },
     "execution_count": 187,
     "metadata": {},
     "output_type": "execute_result"
    }
   ],
   "source": [
    "df"
   ]
  },
  {
   "cell_type": "code",
   "execution_count": 188,
   "id": "08147610",
   "metadata": {},
   "outputs": [],
   "source": [
    "df = df[['names',\"age\",\"Salary\"]]"
   ]
  },
  {
   "cell_type": "code",
   "execution_count": 189,
   "id": "90e217fc",
   "metadata": {},
   "outputs": [
    {
     "data": {
      "text/html": [
       "<div>\n",
       "<style scoped>\n",
       "    .dataframe tbody tr th:only-of-type {\n",
       "        vertical-align: middle;\n",
       "    }\n",
       "\n",
       "    .dataframe tbody tr th {\n",
       "        vertical-align: top;\n",
       "    }\n",
       "\n",
       "    .dataframe thead th {\n",
       "        text-align: right;\n",
       "    }\n",
       "</style>\n",
       "<table border=\"1\" class=\"dataframe\">\n",
       "  <thead>\n",
       "    <tr style=\"text-align: right;\">\n",
       "      <th></th>\n",
       "      <th>names</th>\n",
       "      <th>age</th>\n",
       "      <th>Salary</th>\n",
       "    </tr>\n",
       "  </thead>\n",
       "  <tbody>\n",
       "    <tr>\n",
       "      <th>0</th>\n",
       "      <td>phani</td>\n",
       "      <td>45</td>\n",
       "      <td>36530</td>\n",
       "    </tr>\n",
       "    <tr>\n",
       "      <th>1</th>\n",
       "      <td>kumar</td>\n",
       "      <td>37</td>\n",
       "      <td>34323</td>\n",
       "    </tr>\n",
       "    <tr>\n",
       "      <th>2</th>\n",
       "      <td>hari</td>\n",
       "      <td>22</td>\n",
       "      <td>38187</td>\n",
       "    </tr>\n",
       "    <tr>\n",
       "      <th>3</th>\n",
       "      <td>narayana</td>\n",
       "      <td>44</td>\n",
       "      <td>25546</td>\n",
       "    </tr>\n",
       "    <tr>\n",
       "      <th>4</th>\n",
       "      <td>nikhil</td>\n",
       "      <td>43</td>\n",
       "      <td>25080</td>\n",
       "    </tr>\n",
       "    <tr>\n",
       "      <th>5</th>\n",
       "      <td>kumar</td>\n",
       "      <td>40</td>\n",
       "      <td>36633</td>\n",
       "    </tr>\n",
       "  </tbody>\n",
       "</table>\n",
       "</div>"
      ],
      "text/plain": [
       "      names  age  Salary\n",
       "0     phani   45   36530\n",
       "1     kumar   37   34323\n",
       "2      hari   22   38187\n",
       "3  narayana   44   25546\n",
       "4    nikhil   43   25080\n",
       "5     kumar   40   36633"
      ]
     },
     "execution_count": 189,
     "metadata": {},
     "output_type": "execute_result"
    }
   ],
   "source": [
    "df"
   ]
  },
  {
   "cell_type": "code",
   "execution_count": 190,
   "id": "20a58b11",
   "metadata": {},
   "outputs": [
    {
     "data": {
      "text/html": [
       "<div>\n",
       "<style scoped>\n",
       "    .dataframe tbody tr th:only-of-type {\n",
       "        vertical-align: middle;\n",
       "    }\n",
       "\n",
       "    .dataframe tbody tr th {\n",
       "        vertical-align: top;\n",
       "    }\n",
       "\n",
       "    .dataframe thead th {\n",
       "        text-align: right;\n",
       "    }\n",
       "</style>\n",
       "<table border=\"1\" class=\"dataframe\">\n",
       "  <thead>\n",
       "    <tr style=\"text-align: right;\">\n",
       "      <th></th>\n",
       "      <th>names</th>\n",
       "      <th>age</th>\n",
       "      <th>Salary</th>\n",
       "    </tr>\n",
       "  </thead>\n",
       "  <tbody>\n",
       "    <tr>\n",
       "      <th>0</th>\n",
       "      <td>phani</td>\n",
       "      <td>45</td>\n",
       "      <td>36530</td>\n",
       "    </tr>\n",
       "    <tr>\n",
       "      <th>1</th>\n",
       "      <td>kumar</td>\n",
       "      <td>37</td>\n",
       "      <td>34323</td>\n",
       "    </tr>\n",
       "    <tr>\n",
       "      <th>2</th>\n",
       "      <td>hari</td>\n",
       "      <td>22</td>\n",
       "      <td>38187</td>\n",
       "    </tr>\n",
       "    <tr>\n",
       "      <th>3</th>\n",
       "      <td>narayana</td>\n",
       "      <td>44</td>\n",
       "      <td>25546</td>\n",
       "    </tr>\n",
       "    <tr>\n",
       "      <th>4</th>\n",
       "      <td>nikhil</td>\n",
       "      <td>43</td>\n",
       "      <td>25080</td>\n",
       "    </tr>\n",
       "    <tr>\n",
       "      <th>5</th>\n",
       "      <td>kumar</td>\n",
       "      <td>40</td>\n",
       "      <td>36633</td>\n",
       "    </tr>\n",
       "  </tbody>\n",
       "</table>\n",
       "</div>"
      ],
      "text/plain": [
       "      names  age  Salary\n",
       "0     phani   45   36530\n",
       "1     kumar   37   34323\n",
       "2      hari   22   38187\n",
       "3  narayana   44   25546\n",
       "4    nikhil   43   25080\n",
       "5     kumar   40   36633"
      ]
     },
     "execution_count": 190,
     "metadata": {},
     "output_type": "execute_result"
    }
   ],
   "source": [
    "df"
   ]
  },
  {
   "cell_type": "code",
   "execution_count": 191,
   "id": "1292f2df",
   "metadata": {},
   "outputs": [
    {
     "data": {
      "text/html": [
       "<div>\n",
       "<style scoped>\n",
       "    .dataframe tbody tr th:only-of-type {\n",
       "        vertical-align: middle;\n",
       "    }\n",
       "\n",
       "    .dataframe tbody tr th {\n",
       "        vertical-align: top;\n",
       "    }\n",
       "\n",
       "    .dataframe thead th {\n",
       "        text-align: right;\n",
       "    }\n",
       "</style>\n",
       "<table border=\"1\" class=\"dataframe\">\n",
       "  <thead>\n",
       "    <tr style=\"text-align: right;\">\n",
       "      <th></th>\n",
       "      <th>names</th>\n",
       "      <th>age</th>\n",
       "      <th>Salary</th>\n",
       "    </tr>\n",
       "  </thead>\n",
       "  <tbody>\n",
       "    <tr>\n",
       "      <th>4</th>\n",
       "      <td>nikhil</td>\n",
       "      <td>43</td>\n",
       "      <td>25080</td>\n",
       "    </tr>\n",
       "    <tr>\n",
       "      <th>3</th>\n",
       "      <td>narayana</td>\n",
       "      <td>44</td>\n",
       "      <td>25546</td>\n",
       "    </tr>\n",
       "    <tr>\n",
       "      <th>1</th>\n",
       "      <td>kumar</td>\n",
       "      <td>37</td>\n",
       "      <td>34323</td>\n",
       "    </tr>\n",
       "    <tr>\n",
       "      <th>0</th>\n",
       "      <td>phani</td>\n",
       "      <td>45</td>\n",
       "      <td>36530</td>\n",
       "    </tr>\n",
       "    <tr>\n",
       "      <th>5</th>\n",
       "      <td>kumar</td>\n",
       "      <td>40</td>\n",
       "      <td>36633</td>\n",
       "    </tr>\n",
       "    <tr>\n",
       "      <th>2</th>\n",
       "      <td>hari</td>\n",
       "      <td>22</td>\n",
       "      <td>38187</td>\n",
       "    </tr>\n",
       "  </tbody>\n",
       "</table>\n",
       "</div>"
      ],
      "text/plain": [
       "      names  age  Salary\n",
       "4    nikhil   43   25080\n",
       "3  narayana   44   25546\n",
       "1     kumar   37   34323\n",
       "0     phani   45   36530\n",
       "5     kumar   40   36633\n",
       "2      hari   22   38187"
      ]
     },
     "execution_count": 191,
     "metadata": {},
     "output_type": "execute_result"
    }
   ],
   "source": [
    "#sorting the value \n",
    "df.sort_values('Salary')"
   ]
  },
  {
   "cell_type": "code",
   "execution_count": 194,
   "id": "86b41f02",
   "metadata": {},
   "outputs": [
    {
     "name": "stderr",
     "output_type": "stream",
     "text": [
      "C:\\Users\\SRMAPCSELAB2022-241\\AppData\\Local\\Temp\\ipykernel_16760\\1876961574.py:3: SettingWithCopyWarning: \n",
      "A value is trying to be set on a copy of a slice from a DataFrame\n",
      "\n",
      "See the caveats in the documentation: https://pandas.pydata.org/pandas-docs/stable/user_guide/indexing.html#returning-a-view-versus-a-copy\n",
      "  df.drop(df[df['Salary']<=30000].index,inplace=True)\n"
     ]
    }
   ],
   "source": [
    "# if df.drop(df.sort_values('Salary')<30000):\n",
    "#     print(df)\n",
    "df.drop(df[df['Salary']<=30000].index,inplace=True)"
   ]
  },
  {
   "cell_type": "code",
   "execution_count": 195,
   "id": "5a4e9a59",
   "metadata": {},
   "outputs": [
    {
     "data": {
      "text/html": [
       "<div>\n",
       "<style scoped>\n",
       "    .dataframe tbody tr th:only-of-type {\n",
       "        vertical-align: middle;\n",
       "    }\n",
       "\n",
       "    .dataframe tbody tr th {\n",
       "        vertical-align: top;\n",
       "    }\n",
       "\n",
       "    .dataframe thead th {\n",
       "        text-align: right;\n",
       "    }\n",
       "</style>\n",
       "<table border=\"1\" class=\"dataframe\">\n",
       "  <thead>\n",
       "    <tr style=\"text-align: right;\">\n",
       "      <th></th>\n",
       "      <th>names</th>\n",
       "      <th>age</th>\n",
       "      <th>Salary</th>\n",
       "    </tr>\n",
       "  </thead>\n",
       "  <tbody>\n",
       "    <tr>\n",
       "      <th>0</th>\n",
       "      <td>phani</td>\n",
       "      <td>45</td>\n",
       "      <td>36530</td>\n",
       "    </tr>\n",
       "    <tr>\n",
       "      <th>1</th>\n",
       "      <td>kumar</td>\n",
       "      <td>37</td>\n",
       "      <td>34323</td>\n",
       "    </tr>\n",
       "    <tr>\n",
       "      <th>2</th>\n",
       "      <td>hari</td>\n",
       "      <td>22</td>\n",
       "      <td>38187</td>\n",
       "    </tr>\n",
       "    <tr>\n",
       "      <th>5</th>\n",
       "      <td>kumar</td>\n",
       "      <td>40</td>\n",
       "      <td>36633</td>\n",
       "    </tr>\n",
       "  </tbody>\n",
       "</table>\n",
       "</div>"
      ],
      "text/plain": [
       "   names  age  Salary\n",
       "0  phani   45   36530\n",
       "1  kumar   37   34323\n",
       "2   hari   22   38187\n",
       "5  kumar   40   36633"
      ]
     },
     "execution_count": 195,
     "metadata": {},
     "output_type": "execute_result"
    }
   ],
   "source": [
    "df"
   ]
  },
  {
   "cell_type": "code",
   "execution_count": 219,
   "id": "3cfa1091",
   "metadata": {},
   "outputs": [
    {
     "data": {
      "text/plain": [
       "'A'"
      ]
     },
     "execution_count": 219,
     "metadata": {},
     "output_type": "execute_result"
    }
   ],
   "source": [
    "chr(65)"
   ]
  },
  {
   "cell_type": "code",
   "execution_count": 227,
   "id": "380e78e9",
   "metadata": {},
   "outputs": [
    {
     "data": {
      "text/plain": [
       "{26: 'A',\n",
       " 25: 'B',\n",
       " 24: 'C',\n",
       " 23: 'D',\n",
       " 22: 'E',\n",
       " 21: 'F',\n",
       " 20: 'G',\n",
       " 19: 'H',\n",
       " 18: 'I',\n",
       " 17: 'J',\n",
       " 16: 'K',\n",
       " 15: 'L',\n",
       " 14: 'M',\n",
       " 13: 'N',\n",
       " 12: 'O',\n",
       " 11: 'P',\n",
       " 10: 'Q',\n",
       " 9: 'R',\n",
       " 8: 'S',\n",
       " 7: 'T',\n",
       " 6: 'U',\n",
       " 5: 'V',\n",
       " 4: 'W',\n",
       " 3: 'X',\n",
       " 2: 'Y',\n",
       " 1: 'Z'}"
      ]
     },
     "execution_count": 227,
     "metadata": {},
     "output_type": "execute_result"
    }
   ],
   "source": [
    "{26-i:chr(j) for i,j in enumerate(range(65,91))}"
   ]
  },
  {
   "cell_type": "code",
   "execution_count": 266,
   "id": "a69beec7",
   "metadata": {},
   "outputs": [],
   "source": [
    "D = {}\n",
    "for i,j in enumerate(range(65,91)):\n",
    "    D[i+1] = chr(j)\n",
    "    \n"
   ]
  },
  {
   "cell_type": "code",
   "execution_count": 243,
   "id": "05b1f437",
   "metadata": {},
   "outputs": [
    {
     "data": {
      "text/plain": [
       "<function list.sort(*, key=None, reverse=False)>"
      ]
     },
     "execution_count": 243,
     "metadata": {},
     "output_type": "execute_result"
    }
   ],
   "source": [
    "list(D.values()).sort()"
   ]
  },
  {
   "cell_type": "code",
   "execution_count": 271,
   "id": "92b10996",
   "metadata": {},
   "outputs": [],
   "source": [
    "Data = \"\".join(list(D.values()))\n",
    "# Data[-1] = Data[-1].lower()\n",
    "# Data.replace(\"Z\",\"z\")"
   ]
  },
  {
   "cell_type": "code",
   "execution_count": 272,
   "id": "0e4f8887",
   "metadata": {},
   "outputs": [],
   "source": [
    "cars = ['Ford', 'BMW', 'Volvo']\n",
    "\n",
    "cars.sort(reverse=False) "
   ]
  },
  {
   "cell_type": "code",
   "execution_count": 273,
   "id": "ba5ecbd9",
   "metadata": {},
   "outputs": [
    {
     "data": {
      "text/plain": [
       "['BMW', 'Ford', 'Volvo']"
      ]
     },
     "execution_count": 273,
     "metadata": {},
     "output_type": "execute_result"
    }
   ],
   "source": [
    "cars"
   ]
  },
  {
   "cell_type": "code",
   "execution_count": 282,
   "id": "12c9d4fc",
   "metadata": {},
   "outputs": [
    {
     "data": {
      "text/plain": [
       "'ABCDEFGHIJKLMNOPQRSTUVWXYZ'"
      ]
     },
     "execution_count": 282,
     "metadata": {},
     "output_type": "execute_result"
    }
   ],
   "source": [
    "Data"
   ]
  },
  {
   "cell_type": "code",
   "execution_count": 304,
   "id": "011c3093",
   "metadata": {},
   "outputs": [],
   "source": [
    "D = []\n",
    "for i in range(len(Data)):\n",
    "    if i %2 == 0:\n",
    "        D.append(Data[i])\n",
    "    else:\n",
    "        D.append(Data.replace(Data[i],Data[i].lower())[i])"
   ]
  },
  {
   "cell_type": "code",
   "execution_count": 305,
   "id": "6f9a31e0",
   "metadata": {},
   "outputs": [
    {
     "data": {
      "text/plain": [
       "'ABCDEFGHIJKLMNOPQRSTUVWXYZ'"
      ]
     },
     "execution_count": 305,
     "metadata": {},
     "output_type": "execute_result"
    }
   ],
   "source": [
    "Data"
   ]
  },
  {
   "cell_type": "code",
   "execution_count": 307,
   "id": "da1ac182",
   "metadata": {},
   "outputs": [
    {
     "data": {
      "text/plain": [
       "'AbCdEfGhIjKlMnOpQrStUvWxYz'"
      ]
     },
     "execution_count": 307,
     "metadata": {},
     "output_type": "execute_result"
    }
   ],
   "source": [
    "\"\".join(D)"
   ]
  },
  {
   "cell_type": "code",
   "execution_count": 303,
   "id": "5477988d",
   "metadata": {},
   "outputs": [
    {
     "data": {
      "text/plain": [
       "'h'"
      ]
     },
     "execution_count": 303,
     "metadata": {},
     "output_type": "execute_result"
    }
   ],
   "source": [
    "a = \"Phani\"\n",
    "a[1]"
   ]
  },
  {
   "cell_type": "code",
   "execution_count": 308,
   "id": "efdae8a8",
   "metadata": {},
   "outputs": [],
   "source": [
    "D = \"\"\n",
    "for i in range(len(Data)):\n",
    "    if i %2 == 0:\n",
    "        D+=(Data[i])\n",
    "    else:\n",
    "        D+=(Data.replace(Data[i],Data[i].lower())[i])"
   ]
  },
  {
   "cell_type": "code",
   "execution_count": 309,
   "id": "4227fc80",
   "metadata": {},
   "outputs": [
    {
     "data": {
      "text/plain": [
       "'AbCdEfGhIjKlMnOpQrStUvWxYz'"
      ]
     },
     "execution_count": 309,
     "metadata": {},
     "output_type": "execute_result"
    }
   ],
   "source": [
    "D"
   ]
  },
  {
   "cell_type": "code",
   "execution_count": 2,
   "id": "252f29d8",
   "metadata": {},
   "outputs": [],
   "source": [
    "import pandas as pd\n",
    "df=pd.read_excel(r\"C:\\Users\\SRMAPCSELAB2022-241\\Downloads\\No due form CSE department.xlsx\",sheet_name=None)"
   ]
  },
  {
   "cell_type": "code",
   "execution_count": 3,
   "id": "fdedebdc",
   "metadata": {},
   "outputs": [
    {
     "data": {
      "text/plain": [
       "dict_keys(['2019 B.Tech', '2020 B.Sc', '2021. M.Tech'])"
      ]
     },
     "execution_count": 3,
     "metadata": {},
     "output_type": "execute_result"
    }
   ],
   "source": [
    "df.keys()"
   ]
  },
  {
   "cell_type": "code",
   "execution_count": 4,
   "id": "af747da8",
   "metadata": {},
   "outputs": [],
   "source": [
    "df=pd.read_excel(r\"C:\\Users\\SRMAPCSELAB2022-241\\Downloads\\No due form CSE department.xlsx\",'2021. M.Tech')"
   ]
  },
  {
   "cell_type": "code",
   "execution_count": 22,
   "id": "7af03913",
   "metadata": {},
   "outputs": [
    {
     "data": {
      "text/html": [
       "<div>\n",
       "<style scoped>\n",
       "    .dataframe tbody tr th:only-of-type {\n",
       "        vertical-align: middle;\n",
       "    }\n",
       "\n",
       "    .dataframe tbody tr th {\n",
       "        vertical-align: top;\n",
       "    }\n",
       "\n",
       "    .dataframe thead th {\n",
       "        text-align: right;\n",
       "    }\n",
       "</style>\n",
       "<table border=\"1\" class=\"dataframe\">\n",
       "  <thead>\n",
       "    <tr style=\"text-align: right;\">\n",
       "      <th></th>\n",
       "      <th>S.No</th>\n",
       "      <th>Registration No</th>\n",
       "      <th>Student Name</th>\n",
       "      <th>Gender</th>\n",
       "      <th>Program</th>\n",
       "      <th>Branch</th>\n",
       "      <th>Graduated status</th>\n",
       "      <th>Remarks</th>\n",
       "    </tr>\n",
       "  </thead>\n",
       "  <tbody>\n",
       "    <tr>\n",
       "      <th>1</th>\n",
       "      <td>1</td>\n",
       "      <td>AP21122040001</td>\n",
       "      <td>SHAIK VINSHA</td>\n",
       "      <td>F</td>\n",
       "      <td>M.Tech.</td>\n",
       "      <td>ARTIFICIAL INTELLIGENCE AND MACHINE LEARNING</td>\n",
       "      <td>Yet to be graduated in AY 2022-23</td>\n",
       "      <td>No Due</td>\n",
       "    </tr>\n",
       "    <tr>\n",
       "      <th>2</th>\n",
       "      <td>2</td>\n",
       "      <td>AP21122040002</td>\n",
       "      <td>INGUVA VENKATA KRISHNA ESHWAR</td>\n",
       "      <td>M</td>\n",
       "      <td>M.Tech.</td>\n",
       "      <td>ARTIFICIAL INTELLIGENCE AND MACHINE LEARNING</td>\n",
       "      <td>Yet to be graduated in AY 2022-23</td>\n",
       "      <td>No Due</td>\n",
       "    </tr>\n",
       "  </tbody>\n",
       "</table>\n",
       "</div>"
      ],
      "text/plain": [
       "0 S.No Registration No                   Student Name Gender  Program  \\\n",
       "1    1   AP21122040001                   SHAIK VINSHA      F  M.Tech.   \n",
       "2    2   AP21122040002  INGUVA VENKATA KRISHNA ESHWAR      M  M.Tech.   \n",
       "\n",
       "0                                        Branch  \\\n",
       "1  ARTIFICIAL INTELLIGENCE AND MACHINE LEARNING   \n",
       "2  ARTIFICIAL INTELLIGENCE AND MACHINE LEARNING   \n",
       "\n",
       "0                   Graduated status Remarks  \n",
       "1  Yet to be graduated in AY 2022-23  No Due  \n",
       "2  Yet to be graduated in AY 2022-23  No Due  "
      ]
     },
     "execution_count": 22,
     "metadata": {},
     "output_type": "execute_result"
    }
   ],
   "source": [
    "df[:2:]"
   ]
  },
  {
   "cell_type": "code",
   "execution_count": 6,
   "id": "7d7acbcd",
   "metadata": {},
   "outputs": [],
   "source": [
    "df.columns=df.iloc[0]"
   ]
  },
  {
   "cell_type": "code",
   "execution_count": 9,
   "id": "d09e9409",
   "metadata": {},
   "outputs": [],
   "source": [
    "df.drop(0,axis=0,inplace=True)"
   ]
  },
  {
   "cell_type": "code",
   "execution_count": 21,
   "id": "bb2c72d3",
   "metadata": {},
   "outputs": [
    {
     "data": {
      "text/html": [
       "<div>\n",
       "<style scoped>\n",
       "    .dataframe tbody tr th:only-of-type {\n",
       "        vertical-align: middle;\n",
       "    }\n",
       "\n",
       "    .dataframe tbody tr th {\n",
       "        vertical-align: top;\n",
       "    }\n",
       "\n",
       "    .dataframe thead th {\n",
       "        text-align: right;\n",
       "    }\n",
       "</style>\n",
       "<table border=\"1\" class=\"dataframe\">\n",
       "  <thead>\n",
       "    <tr style=\"text-align: right;\">\n",
       "      <th></th>\n",
       "      <th>S.No</th>\n",
       "      <th>Registration No</th>\n",
       "      <th>Student Name</th>\n",
       "      <th>Gender</th>\n",
       "      <th>Program</th>\n",
       "      <th>Branch</th>\n",
       "      <th>Graduated status</th>\n",
       "      <th>Remarks</th>\n",
       "    </tr>\n",
       "  </thead>\n",
       "  <tbody>\n",
       "    <tr>\n",
       "      <th>1</th>\n",
       "      <td>1</td>\n",
       "      <td>AP21122040001</td>\n",
       "      <td>SHAIK VINSHA</td>\n",
       "      <td>F</td>\n",
       "      <td>M.Tech.</td>\n",
       "      <td>ARTIFICIAL INTELLIGENCE AND MACHINE LEARNING</td>\n",
       "      <td>Yet to be graduated in AY 2022-23</td>\n",
       "      <td>No Due</td>\n",
       "    </tr>\n",
       "    <tr>\n",
       "      <th>2</th>\n",
       "      <td>2</td>\n",
       "      <td>AP21122040002</td>\n",
       "      <td>INGUVA VENKATA KRISHNA ESHWAR</td>\n",
       "      <td>M</td>\n",
       "      <td>M.Tech.</td>\n",
       "      <td>ARTIFICIAL INTELLIGENCE AND MACHINE LEARNING</td>\n",
       "      <td>Yet to be graduated in AY 2022-23</td>\n",
       "      <td>No Due</td>\n",
       "    </tr>\n",
       "  </tbody>\n",
       "</table>\n",
       "</div>"
      ],
      "text/plain": [
       "0 S.No Registration No                   Student Name Gender  Program  \\\n",
       "1    1   AP21122040001                   SHAIK VINSHA      F  M.Tech.   \n",
       "2    2   AP21122040002  INGUVA VENKATA KRISHNA ESHWAR      M  M.Tech.   \n",
       "\n",
       "0                                        Branch  \\\n",
       "1  ARTIFICIAL INTELLIGENCE AND MACHINE LEARNING   \n",
       "2  ARTIFICIAL INTELLIGENCE AND MACHINE LEARNING   \n",
       "\n",
       "0                   Graduated status Remarks  \n",
       "1  Yet to be graduated in AY 2022-23  No Due  \n",
       "2  Yet to be graduated in AY 2022-23  No Due  "
      ]
     },
     "execution_count": 21,
     "metadata": {},
     "output_type": "execute_result"
    }
   ],
   "source": [
    "df[:2:]"
   ]
  },
  {
   "cell_type": "code",
   "execution_count": 12,
   "id": "84cfa82f",
   "metadata": {},
   "outputs": [],
   "source": [
    "data=[[\"one\",\"two\"],[\"three\"],[\"four\"],[\"five\"]]"
   ]
  },
  {
   "cell_type": "code",
   "execution_count": 15,
   "id": "b418dbf7",
   "metadata": {},
   "outputs": [],
   "source": [
    "#list of list in a singel list\n",
    "a=[]\n",
    "for i in range(len(data)):\n",
    "    for j in data[i]:\n",
    "        a.append(j)"
   ]
  },
  {
   "cell_type": "code",
   "execution_count": 16,
   "id": "7e17ac8a",
   "metadata": {},
   "outputs": [
    {
     "data": {
      "text/plain": [
       "['one', 'two', 'three', 'four', 'five']"
      ]
     },
     "execution_count": 16,
     "metadata": {},
     "output_type": "execute_result"
    }
   ],
   "source": [
    "a"
   ]
  },
  {
   "cell_type": "code",
   "execution_count": 20,
   "id": "244f5fa0",
   "metadata": {},
   "outputs": [
    {
     "data": {
      "text/html": [
       "<div>\n",
       "<style scoped>\n",
       "    .dataframe tbody tr th:only-of-type {\n",
       "        vertical-align: middle;\n",
       "    }\n",
       "\n",
       "    .dataframe tbody tr th {\n",
       "        vertical-align: top;\n",
       "    }\n",
       "\n",
       "    .dataframe thead th {\n",
       "        text-align: right;\n",
       "    }\n",
       "</style>\n",
       "<table border=\"1\" class=\"dataframe\">\n",
       "  <thead>\n",
       "    <tr style=\"text-align: right;\">\n",
       "      <th></th>\n",
       "      <th>S.No</th>\n",
       "      <th>Registration No</th>\n",
       "      <th>Student Name</th>\n",
       "      <th>Gender</th>\n",
       "      <th>Program</th>\n",
       "      <th>Branch</th>\n",
       "      <th>Graduated status</th>\n",
       "      <th>Remarks</th>\n",
       "    </tr>\n",
       "  </thead>\n",
       "  <tbody>\n",
       "    <tr>\n",
       "      <th>1</th>\n",
       "      <td>1</td>\n",
       "      <td>AP21122040001</td>\n",
       "      <td>SHAIK VINSHA</td>\n",
       "      <td>F</td>\n",
       "      <td>M.Tech.</td>\n",
       "      <td>ARTIFICIAL INTELLIGENCE AND MACHINE LEARNING</td>\n",
       "      <td>Yet to be graduated in AY 2022-23</td>\n",
       "      <td>No Due</td>\n",
       "    </tr>\n",
       "    <tr>\n",
       "      <th>2</th>\n",
       "      <td>2</td>\n",
       "      <td>AP21122040002</td>\n",
       "      <td>INGUVA VENKATA KRISHNA ESHWAR</td>\n",
       "      <td>M</td>\n",
       "      <td>M.Tech.</td>\n",
       "      <td>ARTIFICIAL INTELLIGENCE AND MACHINE LEARNING</td>\n",
       "      <td>Yet to be graduated in AY 2022-23</td>\n",
       "      <td>No Due</td>\n",
       "    </tr>\n",
       "    <tr>\n",
       "      <th>3</th>\n",
       "      <td>3</td>\n",
       "      <td>AP21122040003</td>\n",
       "      <td>INDURI ANUJA</td>\n",
       "      <td>F</td>\n",
       "      <td>M.Tech.</td>\n",
       "      <td>ARTIFICIAL INTELLIGENCE AND MACHINE LEARNING</td>\n",
       "      <td>Yet to be graduated in AY 2022-23</td>\n",
       "      <td>No Due</td>\n",
       "    </tr>\n",
       "  </tbody>\n",
       "</table>\n",
       "</div>"
      ],
      "text/plain": [
       "0 S.No Registration No                   Student Name Gender  Program  \\\n",
       "1    1   AP21122040001                   SHAIK VINSHA      F  M.Tech.   \n",
       "2    2   AP21122040002  INGUVA VENKATA KRISHNA ESHWAR      M  M.Tech.   \n",
       "3    3   AP21122040003                   INDURI ANUJA      F  M.Tech.   \n",
       "\n",
       "0                                        Branch  \\\n",
       "1  ARTIFICIAL INTELLIGENCE AND MACHINE LEARNING   \n",
       "2  ARTIFICIAL INTELLIGENCE AND MACHINE LEARNING   \n",
       "3  ARTIFICIAL INTELLIGENCE AND MACHINE LEARNING   \n",
       "\n",
       "0                   Graduated status Remarks  \n",
       "1  Yet to be graduated in AY 2022-23  No Due  \n",
       "2  Yet to be graduated in AY 2022-23  No Due  \n",
       "3  Yet to be graduated in AY 2022-23  No Due  "
      ]
     },
     "execution_count": 20,
     "metadata": {},
     "output_type": "execute_result"
    }
   ],
   "source": [
    "#drop a Remarks column\n",
    "df[:3:]"
   ]
  },
  {
   "cell_type": "code",
   "execution_count": 27,
   "id": "a697e54e",
   "metadata": {},
   "outputs": [],
   "source": [
    "df.drop('Remarks',axis=1,inplace=True)"
   ]
  },
  {
   "cell_type": "code",
   "execution_count": 28,
   "id": "a1f496a1",
   "metadata": {},
   "outputs": [
    {
     "data": {
      "text/html": [
       "<div>\n",
       "<style scoped>\n",
       "    .dataframe tbody tr th:only-of-type {\n",
       "        vertical-align: middle;\n",
       "    }\n",
       "\n",
       "    .dataframe tbody tr th {\n",
       "        vertical-align: top;\n",
       "    }\n",
       "\n",
       "    .dataframe thead th {\n",
       "        text-align: right;\n",
       "    }\n",
       "</style>\n",
       "<table border=\"1\" class=\"dataframe\">\n",
       "  <thead>\n",
       "    <tr style=\"text-align: right;\">\n",
       "      <th></th>\n",
       "      <th>S.No</th>\n",
       "      <th>Registration No</th>\n",
       "      <th>Student Name</th>\n",
       "      <th>Gender</th>\n",
       "      <th>Program</th>\n",
       "      <th>Branch</th>\n",
       "      <th>Graduated status</th>\n",
       "    </tr>\n",
       "  </thead>\n",
       "  <tbody>\n",
       "    <tr>\n",
       "      <th>1</th>\n",
       "      <td>1</td>\n",
       "      <td>AP21122040001</td>\n",
       "      <td>SHAIK VINSHA</td>\n",
       "      <td>F</td>\n",
       "      <td>M.Tech.</td>\n",
       "      <td>ARTIFICIAL INTELLIGENCE AND MACHINE LEARNING</td>\n",
       "      <td>Yet to be graduated in AY 2022-23</td>\n",
       "    </tr>\n",
       "  </tbody>\n",
       "</table>\n",
       "</div>"
      ],
      "text/plain": [
       "0 S.No Registration No  Student Name Gender  Program  \\\n",
       "1    1   AP21122040001  SHAIK VINSHA      F  M.Tech.   \n",
       "\n",
       "0                                        Branch  \\\n",
       "1  ARTIFICIAL INTELLIGENCE AND MACHINE LEARNING   \n",
       "\n",
       "0                   Graduated status  \n",
       "1  Yet to be graduated in AY 2022-23  "
      ]
     },
     "execution_count": 28,
     "metadata": {},
     "output_type": "execute_result"
    }
   ],
   "source": [
    "df[:1:]"
   ]
  },
  {
   "cell_type": "code",
   "execution_count": 30,
   "id": "0d2730c2",
   "metadata": {},
   "outputs": [],
   "source": [
    "#drop a multiple columns\n",
    "df.drop(df[['S.No','Gender']],axis=1,inplace=True)"
   ]
  },
  {
   "cell_type": "code",
   "execution_count": 34,
   "id": "f580e1a0",
   "metadata": {},
   "outputs": [
    {
     "data": {
      "text/html": [
       "<div>\n",
       "<style scoped>\n",
       "    .dataframe tbody tr th:only-of-type {\n",
       "        vertical-align: middle;\n",
       "    }\n",
       "\n",
       "    .dataframe tbody tr th {\n",
       "        vertical-align: top;\n",
       "    }\n",
       "\n",
       "    .dataframe thead th {\n",
       "        text-align: right;\n",
       "    }\n",
       "</style>\n",
       "<table border=\"1\" class=\"dataframe\">\n",
       "  <thead>\n",
       "    <tr style=\"text-align: right;\">\n",
       "      <th></th>\n",
       "      <th>Registration No</th>\n",
       "      <th>Student Name</th>\n",
       "      <th>Program</th>\n",
       "      <th>Branch</th>\n",
       "      <th>Graduated status</th>\n",
       "    </tr>\n",
       "  </thead>\n",
       "  <tbody>\n",
       "    <tr>\n",
       "      <th>1</th>\n",
       "      <td>AP21122040001</td>\n",
       "      <td>SHAIK VINSHA</td>\n",
       "      <td>M.Tech.</td>\n",
       "      <td>ARTIFICIAL INTELLIGENCE AND MACHINE LEARNING</td>\n",
       "      <td>Yet to be graduated in AY 2022-23</td>\n",
       "    </tr>\n",
       "  </tbody>\n",
       "</table>\n",
       "</div>"
      ],
      "text/plain": [
       "0 Registration No  Student Name  Program  \\\n",
       "1   AP21122040001  SHAIK VINSHA  M.Tech.   \n",
       "\n",
       "0                                        Branch  \\\n",
       "1  ARTIFICIAL INTELLIGENCE AND MACHINE LEARNING   \n",
       "\n",
       "0                   Graduated status  \n",
       "1  Yet to be graduated in AY 2022-23  "
      ]
     },
     "execution_count": 34,
     "metadata": {},
     "output_type": "execute_result"
    }
   ],
   "source": [
    "df[:1:]"
   ]
  },
  {
   "cell_type": "code",
   "execution_count": 37,
   "id": "34b4ce7a",
   "metadata": {},
   "outputs": [
    {
     "data": {
      "text/html": [
       "<div>\n",
       "<style scoped>\n",
       "    .dataframe tbody tr th:only-of-type {\n",
       "        vertical-align: middle;\n",
       "    }\n",
       "\n",
       "    .dataframe tbody tr th {\n",
       "        vertical-align: top;\n",
       "    }\n",
       "\n",
       "    .dataframe thead th {\n",
       "        text-align: right;\n",
       "    }\n",
       "</style>\n",
       "<table border=\"1\" class=\"dataframe\">\n",
       "  <thead>\n",
       "    <tr style=\"text-align: right;\">\n",
       "      <th></th>\n",
       "      <th>Registration No</th>\n",
       "      <th>Student Name</th>\n",
       "      <th>Program</th>\n",
       "      <th>Branch</th>\n",
       "      <th>Graduated status</th>\n",
       "    </tr>\n",
       "  </thead>\n",
       "  <tbody>\n",
       "    <tr>\n",
       "      <th>1</th>\n",
       "      <td>AP21122040001</td>\n",
       "      <td>SHAIK VINSHA</td>\n",
       "      <td>M.Tech.</td>\n",
       "      <td>ARTIFICIAL INTELLIGENCE AND MACHINE LEARNING</td>\n",
       "      <td>Yet to be graduated in AY 2022-23</td>\n",
       "    </tr>\n",
       "    <tr>\n",
       "      <th>2</th>\n",
       "      <td>AP21122040002</td>\n",
       "      <td>INGUVA VENKATA KRISHNA ESHWAR</td>\n",
       "      <td>M.Tech.</td>\n",
       "      <td>ARTIFICIAL INTELLIGENCE AND MACHINE LEARNING</td>\n",
       "      <td>Yet to be graduated in AY 2022-23</td>\n",
       "    </tr>\n",
       "    <tr>\n",
       "      <th>3</th>\n",
       "      <td>AP21122040003</td>\n",
       "      <td>INDURI ANUJA</td>\n",
       "      <td>M.Tech.</td>\n",
       "      <td>ARTIFICIAL INTELLIGENCE AND MACHINE LEARNING</td>\n",
       "      <td>Yet to be graduated in AY 2022-23</td>\n",
       "    </tr>\n",
       "    <tr>\n",
       "      <th>4</th>\n",
       "      <td>AP21122040004</td>\n",
       "      <td>NALLAMOTHU TALANYA</td>\n",
       "      <td>M.Tech.</td>\n",
       "      <td>ARTIFICIAL INTELLIGENCE AND MACHINE LEARNING</td>\n",
       "      <td>Yet to be graduated in AY 2022-23</td>\n",
       "    </tr>\n",
       "    <tr>\n",
       "      <th>5</th>\n",
       "      <td>AP21122040005</td>\n",
       "      <td>DHARANI SABARI SAMUDRALA</td>\n",
       "      <td>M.Tech.</td>\n",
       "      <td>ARTIFICIAL INTELLIGENCE AND MACHINE LEARNING</td>\n",
       "      <td>Yet to be graduated in AY 2022-23</td>\n",
       "    </tr>\n",
       "    <tr>\n",
       "      <th>6</th>\n",
       "      <td>AP21122040006</td>\n",
       "      <td>SHIVAM DINKAR</td>\n",
       "      <td>M.Tech.</td>\n",
       "      <td>ARTIFICIAL INTELLIGENCE AND MACHINE LEARNING</td>\n",
       "      <td>Yet to be graduated in AY 2022-23</td>\n",
       "    </tr>\n",
       "    <tr>\n",
       "      <th>7</th>\n",
       "      <td>AP21122040007</td>\n",
       "      <td>MUTUPURI SHIVA SHANKAR</td>\n",
       "      <td>M.Tech.</td>\n",
       "      <td>ARTIFICIAL INTELLIGENCE AND MACHINE LEARNING</td>\n",
       "      <td>Yet to be graduated in AY 2022-23</td>\n",
       "    </tr>\n",
       "    <tr>\n",
       "      <th>8</th>\n",
       "      <td>AP21122040008</td>\n",
       "      <td>KHADRI SYED FAIZZ AHMAD</td>\n",
       "      <td>M.Tech.</td>\n",
       "      <td>ARTIFICIAL INTELLIGENCE AND MACHINE LEARNING</td>\n",
       "      <td>Yet to be graduated in AY 2022-23</td>\n",
       "    </tr>\n",
       "    <tr>\n",
       "      <th>9</th>\n",
       "      <td>AP21122040009</td>\n",
       "      <td>MADUPURI REDDY PRIYA</td>\n",
       "      <td>M.Tech.</td>\n",
       "      <td>ARTIFICIAL INTELLIGENCE AND MACHINE LEARNING</td>\n",
       "      <td>Yet to be graduated in AY 2022-23</td>\n",
       "    </tr>\n",
       "    <tr>\n",
       "      <th>10</th>\n",
       "      <td>AP21122040012</td>\n",
       "      <td>EDAWANBIANG DHAR</td>\n",
       "      <td>M.Tech.</td>\n",
       "      <td>ARTIFICIAL INTELLIGENCE AND MACHINE LEARNING</td>\n",
       "      <td>Yet to be graduated in AY 2022-23</td>\n",
       "    </tr>\n",
       "    <tr>\n",
       "      <th>11</th>\n",
       "      <td>AP21122040013</td>\n",
       "      <td>AADHAR KAUSHIK</td>\n",
       "      <td>M.Tech.</td>\n",
       "      <td>ARTIFICIAL INTELLIGENCE AND MACHINE LEARNING</td>\n",
       "      <td>Yet to be graduated in AY 2022-23</td>\n",
       "    </tr>\n",
       "    <tr>\n",
       "      <th>12</th>\n",
       "      <td>AP21122040015</td>\n",
       "      <td>JUPUDI ANVITHA</td>\n",
       "      <td>M.Tech.</td>\n",
       "      <td>ARTIFICIAL INTELLIGENCE AND MACHINE LEARNING</td>\n",
       "      <td>Yet to be graduated in AY 2022-23</td>\n",
       "    </tr>\n",
       "  </tbody>\n",
       "</table>\n",
       "</div>"
      ],
      "text/plain": [
       "0  Registration No                   Student Name  Program  \\\n",
       "1    AP21122040001                   SHAIK VINSHA  M.Tech.   \n",
       "2    AP21122040002  INGUVA VENKATA KRISHNA ESHWAR  M.Tech.   \n",
       "3    AP21122040003                   INDURI ANUJA  M.Tech.   \n",
       "4    AP21122040004             NALLAMOTHU TALANYA  M.Tech.   \n",
       "5    AP21122040005       DHARANI SABARI SAMUDRALA  M.Tech.   \n",
       "6    AP21122040006                  SHIVAM DINKAR  M.Tech.   \n",
       "7    AP21122040007         MUTUPURI SHIVA SHANKAR  M.Tech.   \n",
       "8    AP21122040008        KHADRI SYED FAIZZ AHMAD  M.Tech.   \n",
       "9    AP21122040009           MADUPURI REDDY PRIYA  M.Tech.   \n",
       "10   AP21122040012               EDAWANBIANG DHAR  M.Tech.   \n",
       "11   AP21122040013                 AADHAR KAUSHIK  M.Tech.   \n",
       "12   AP21122040015                 JUPUDI ANVITHA  M.Tech.   \n",
       "\n",
       "0                                         Branch  \\\n",
       "1   ARTIFICIAL INTELLIGENCE AND MACHINE LEARNING   \n",
       "2   ARTIFICIAL INTELLIGENCE AND MACHINE LEARNING   \n",
       "3   ARTIFICIAL INTELLIGENCE AND MACHINE LEARNING   \n",
       "4   ARTIFICIAL INTELLIGENCE AND MACHINE LEARNING   \n",
       "5   ARTIFICIAL INTELLIGENCE AND MACHINE LEARNING   \n",
       "6   ARTIFICIAL INTELLIGENCE AND MACHINE LEARNING   \n",
       "7   ARTIFICIAL INTELLIGENCE AND MACHINE LEARNING   \n",
       "8   ARTIFICIAL INTELLIGENCE AND MACHINE LEARNING   \n",
       "9   ARTIFICIAL INTELLIGENCE AND MACHINE LEARNING   \n",
       "10  ARTIFICIAL INTELLIGENCE AND MACHINE LEARNING   \n",
       "11  ARTIFICIAL INTELLIGENCE AND MACHINE LEARNING   \n",
       "12  ARTIFICIAL INTELLIGENCE AND MACHINE LEARNING   \n",
       "\n",
       "0                    Graduated status  \n",
       "1   Yet to be graduated in AY 2022-23  \n",
       "2   Yet to be graduated in AY 2022-23  \n",
       "3   Yet to be graduated in AY 2022-23  \n",
       "4   Yet to be graduated in AY 2022-23  \n",
       "5   Yet to be graduated in AY 2022-23  \n",
       "6   Yet to be graduated in AY 2022-23  \n",
       "7   Yet to be graduated in AY 2022-23  \n",
       "8   Yet to be graduated in AY 2022-23  \n",
       "9   Yet to be graduated in AY 2022-23  \n",
       "10  Yet to be graduated in AY 2022-23  \n",
       "11  Yet to be graduated in AY 2022-23  \n",
       "12  Yet to be graduated in AY 2022-23  "
      ]
     },
     "execution_count": 37,
     "metadata": {},
     "output_type": "execute_result"
    }
   ],
   "source": [
    "df"
   ]
  },
  {
   "cell_type": "code",
   "execution_count": 41,
   "id": "048df064",
   "metadata": {},
   "outputs": [
    {
     "data": {
      "text/html": [
       "<div>\n",
       "<style scoped>\n",
       "    .dataframe tbody tr th:only-of-type {\n",
       "        vertical-align: middle;\n",
       "    }\n",
       "\n",
       "    .dataframe tbody tr th {\n",
       "        vertical-align: top;\n",
       "    }\n",
       "\n",
       "    .dataframe thead th {\n",
       "        text-align: right;\n",
       "    }\n",
       "</style>\n",
       "<table border=\"1\" class=\"dataframe\">\n",
       "  <thead>\n",
       "    <tr style=\"text-align: right;\">\n",
       "      <th></th>\n",
       "      <th>Registration No</th>\n",
       "      <th>Student Name</th>\n",
       "      <th>Program</th>\n",
       "      <th>Branch</th>\n",
       "      <th>Graduated status</th>\n",
       "    </tr>\n",
       "  </thead>\n",
       "  <tbody>\n",
       "    <tr>\n",
       "      <th>1</th>\n",
       "      <td>AP21122040001</td>\n",
       "      <td>SHAIK VINSHA</td>\n",
       "      <td>M.Tech.</td>\n",
       "      <td>ARTIFICIAL INTELLIGENCE AND MACHINE LEARNING</td>\n",
       "      <td>Yet to be graduated in AY 2022-23</td>\n",
       "    </tr>\n",
       "    <tr>\n",
       "      <th>2</th>\n",
       "      <td>AP21122040002</td>\n",
       "      <td>INGUVA VENKATA KRISHNA ESHWAR</td>\n",
       "      <td>M.Tech.</td>\n",
       "      <td>ARTIFICIAL INTELLIGENCE AND MACHINE LEARNING</td>\n",
       "      <td>Yet to be graduated in AY 2022-23</td>\n",
       "    </tr>\n",
       "    <tr>\n",
       "      <th>3</th>\n",
       "      <td>AP21122040003</td>\n",
       "      <td>INDURI ANUJA</td>\n",
       "      <td>M.Tech.</td>\n",
       "      <td>ARTIFICIAL INTELLIGENCE AND MACHINE LEARNING</td>\n",
       "      <td>Yet to be graduated in AY 2022-23</td>\n",
       "    </tr>\n",
       "    <tr>\n",
       "      <th>4</th>\n",
       "      <td>AP21122040004</td>\n",
       "      <td>NALLAMOTHU TALANYA</td>\n",
       "      <td>M.Tech.</td>\n",
       "      <td>ARTIFICIAL INTELLIGENCE AND MACHINE LEARNING</td>\n",
       "      <td>Yet to be graduated in AY 2022-23</td>\n",
       "    </tr>\n",
       "    <tr>\n",
       "      <th>5</th>\n",
       "      <td>AP21122040005</td>\n",
       "      <td>DHARANI SABARI SAMUDRALA</td>\n",
       "      <td>M.Tech.</td>\n",
       "      <td>ARTIFICIAL INTELLIGENCE AND MACHINE LEARNING</td>\n",
       "      <td>Yet to be graduated in AY 2022-23</td>\n",
       "    </tr>\n",
       "    <tr>\n",
       "      <th>6</th>\n",
       "      <td>AP21122040006</td>\n",
       "      <td>SHIVAM DINKAR</td>\n",
       "      <td>M.Tech.</td>\n",
       "      <td>ARTIFICIAL INTELLIGENCE AND MACHINE LEARNING</td>\n",
       "      <td>Yet to be graduated in AY 2022-23</td>\n",
       "    </tr>\n",
       "    <tr>\n",
       "      <th>7</th>\n",
       "      <td>AP21122040007</td>\n",
       "      <td>MUTUPURI SHIVA SHANKAR</td>\n",
       "      <td>M.Tech.</td>\n",
       "      <td>ARTIFICIAL INTELLIGENCE AND MACHINE LEARNING</td>\n",
       "      <td>Yet to be graduated in AY 2022-23</td>\n",
       "    </tr>\n",
       "    <tr>\n",
       "      <th>8</th>\n",
       "      <td>AP21122040008</td>\n",
       "      <td>KHADRI SYED FAIZZ AHMAD</td>\n",
       "      <td>M.Tech.</td>\n",
       "      <td>ARTIFICIAL INTELLIGENCE AND MACHINE LEARNING</td>\n",
       "      <td>Yet to be graduated in AY 2022-23</td>\n",
       "    </tr>\n",
       "    <tr>\n",
       "      <th>9</th>\n",
       "      <td>AP21122040009</td>\n",
       "      <td>MADUPURI REDDY PRIYA</td>\n",
       "      <td>M.Tech.</td>\n",
       "      <td>ARTIFICIAL INTELLIGENCE AND MACHINE LEARNING</td>\n",
       "      <td>Yet to be graduated in AY 2022-23</td>\n",
       "    </tr>\n",
       "    <tr>\n",
       "      <th>10</th>\n",
       "      <td>AP21122040012</td>\n",
       "      <td>EDAWANBIANG DHAR</td>\n",
       "      <td>M.Tech.</td>\n",
       "      <td>ARTIFICIAL INTELLIGENCE AND MACHINE LEARNING</td>\n",
       "      <td>Yet to be graduated in AY 2022-23</td>\n",
       "    </tr>\n",
       "    <tr>\n",
       "      <th>11</th>\n",
       "      <td>AP21122040013</td>\n",
       "      <td>AADHAR KAUSHIK</td>\n",
       "      <td>M.Tech.</td>\n",
       "      <td>ARTIFICIAL INTELLIGENCE AND MACHINE LEARNING</td>\n",
       "      <td>Yet to be graduated in AY 2022-23</td>\n",
       "    </tr>\n",
       "    <tr>\n",
       "      <th>12</th>\n",
       "      <td>AP21122040015</td>\n",
       "      <td>JUPUDI ANVITHA</td>\n",
       "      <td>M.Tech.</td>\n",
       "      <td>ARTIFICIAL INTELLIGENCE AND MACHINE LEARNING</td>\n",
       "      <td>Yet to be graduated in AY 2022-23</td>\n",
       "    </tr>\n",
       "  </tbody>\n",
       "</table>\n",
       "</div>"
      ],
      "text/plain": [
       "0  Registration No                   Student Name  Program  \\\n",
       "1    AP21122040001                   SHAIK VINSHA  M.Tech.   \n",
       "2    AP21122040002  INGUVA VENKATA KRISHNA ESHWAR  M.Tech.   \n",
       "3    AP21122040003                   INDURI ANUJA  M.Tech.   \n",
       "4    AP21122040004             NALLAMOTHU TALANYA  M.Tech.   \n",
       "5    AP21122040005       DHARANI SABARI SAMUDRALA  M.Tech.   \n",
       "6    AP21122040006                  SHIVAM DINKAR  M.Tech.   \n",
       "7    AP21122040007         MUTUPURI SHIVA SHANKAR  M.Tech.   \n",
       "8    AP21122040008        KHADRI SYED FAIZZ AHMAD  M.Tech.   \n",
       "9    AP21122040009           MADUPURI REDDY PRIYA  M.Tech.   \n",
       "10   AP21122040012               EDAWANBIANG DHAR  M.Tech.   \n",
       "11   AP21122040013                 AADHAR KAUSHIK  M.Tech.   \n",
       "12   AP21122040015                 JUPUDI ANVITHA  M.Tech.   \n",
       "\n",
       "0                                         Branch  \\\n",
       "1   ARTIFICIAL INTELLIGENCE AND MACHINE LEARNING   \n",
       "2   ARTIFICIAL INTELLIGENCE AND MACHINE LEARNING   \n",
       "3   ARTIFICIAL INTELLIGENCE AND MACHINE LEARNING   \n",
       "4   ARTIFICIAL INTELLIGENCE AND MACHINE LEARNING   \n",
       "5   ARTIFICIAL INTELLIGENCE AND MACHINE LEARNING   \n",
       "6   ARTIFICIAL INTELLIGENCE AND MACHINE LEARNING   \n",
       "7   ARTIFICIAL INTELLIGENCE AND MACHINE LEARNING   \n",
       "8   ARTIFICIAL INTELLIGENCE AND MACHINE LEARNING   \n",
       "9   ARTIFICIAL INTELLIGENCE AND MACHINE LEARNING   \n",
       "10  ARTIFICIAL INTELLIGENCE AND MACHINE LEARNING   \n",
       "11  ARTIFICIAL INTELLIGENCE AND MACHINE LEARNING   \n",
       "12  ARTIFICIAL INTELLIGENCE AND MACHINE LEARNING   \n",
       "\n",
       "0                    Graduated status  \n",
       "1   Yet to be graduated in AY 2022-23  \n",
       "2   Yet to be graduated in AY 2022-23  \n",
       "3   Yet to be graduated in AY 2022-23  \n",
       "4   Yet to be graduated in AY 2022-23  \n",
       "5   Yet to be graduated in AY 2022-23  \n",
       "6   Yet to be graduated in AY 2022-23  \n",
       "7   Yet to be graduated in AY 2022-23  \n",
       "8   Yet to be graduated in AY 2022-23  \n",
       "9   Yet to be graduated in AY 2022-23  \n",
       "10  Yet to be graduated in AY 2022-23  \n",
       "11  Yet to be graduated in AY 2022-23  \n",
       "12  Yet to be graduated in AY 2022-23  "
      ]
     },
     "metadata": {},
     "output_type": "display_data"
    }
   ],
   "source": [
    "display(df)"
   ]
  },
  {
   "cell_type": "code",
   "execution_count": null,
   "id": "0ea2a653",
   "metadata": {},
   "outputs": [],
   "source": []
  },
  {
   "cell_type": "code",
   "execution_count": null,
   "id": "0c081b02",
   "metadata": {},
   "outputs": [],
   "source": []
  },
  {
   "cell_type": "code",
   "execution_count": null,
   "id": "541cb096",
   "metadata": {},
   "outputs": [],
   "source": []
  },
  {
   "cell_type": "code",
   "execution_count": null,
   "id": "e4e6808f",
   "metadata": {},
   "outputs": [],
   "source": []
  }
 ],
 "metadata": {
  "kernelspec": {
   "display_name": "Python 3 (ipykernel)",
   "language": "python",
   "name": "python3"
  },
  "language_info": {
   "codemirror_mode": {
    "name": "ipython",
    "version": 3
   },
   "file_extension": ".py",
   "mimetype": "text/x-python",
   "name": "python",
   "nbconvert_exporter": "python",
   "pygments_lexer": "ipython3",
   "version": "3.11.0"
  }
 },
 "nbformat": 4,
 "nbformat_minor": 5
}
